{
  "nbformat": 4,
  "nbformat_minor": 0,
  "metadata": {
    "colab": {
      "name": "Covid Face Mask Detector.ipynb",
      "provenance": [],
      "collapsed_sections": [],
      "authorship_tag": "ABX9TyOSI7CXSlX7EAioqKDh/Y1u",
      "include_colab_link": true
    },
    "kernelspec": {
      "name": "python3",
      "display_name": "Python 3"
    }
  },
  "cells": [
    {
      "cell_type": "markdown",
      "metadata": {
        "id": "view-in-github",
        "colab_type": "text"
      },
      "source": [
        "<a href=\"https://colab.research.google.com/github/linlih/CovidFaceMaskDetector/blob/master/Covid_Face_Mask_Detector.ipynb\" target=\"_parent\"><img src=\"https://colab.research.google.com/assets/colab-badge.svg\" alt=\"Open In Colab\"/></a>"
      ]
    },
    {
      "cell_type": "markdown",
      "metadata": {
        "id": "SEHkTq00Vxoh",
        "colab_type": "text"
      },
      "source": [
        "# 下载数据\n",
        "\n",
        "数据来源：https://github.com/X-zhangyang/Real-World-Masked-Face-Dataset\n"
      ]
    },
    {
      "cell_type": "code",
      "metadata": {
        "id": "vsSlIPIvVpTv",
        "colab_type": "code",
        "colab": {}
      },
      "source": [
        "from pathlib import Path\n",
        "\n",
        "import pandas as pd\n",
        "from google_drive_downloader import GoogleDriveDownloader as gdd\n",
        "from tqdm import tqdm"
      ],
      "execution_count": 0,
      "outputs": []
    },
    {
      "cell_type": "code",
      "metadata": {
        "id": "jpfo5MQHXzZl",
        "colab_type": "code",
        "colab": {
          "base_uri": "https://localhost:8080/",
          "height": 53
        },
        "outputId": "82477809-9e8d-4825-ceb6-963bb9b141ae"
      },
      "source": [
        "datasetPath = Path('./data/mask.zip')\n",
        "# 从GoogleDrive的共享文件中下载训练数据\n",
        "gdd.download_file_from_google_drive(file_id='1UlOk6EtiaXTHylRUx2mySgvJX9ycoeBp',\n",
        "                  dest_path=str(datasetPath),\n",
        "                  unzip=True)"
      ],
      "execution_count": 3,
      "outputs": [
        {
          "output_type": "stream",
          "text": [
            "Downloading 1UlOk6EtiaXTHylRUx2mySgvJX9ycoeBp into data/mask.zip... Done.\n",
            "Unzipping...Done.\n"
          ],
          "name": "stdout"
        }
      ]
    },
    {
      "cell_type": "code",
      "metadata": {
        "id": "ihBIAXqTX8rD",
        "colab_type": "code",
        "colab": {}
      },
      "source": [
        "datasetPath.unlink() # 删除下载的zipwe文件"
      ],
      "execution_count": 0,
      "outputs": []
    },
    {
      "cell_type": "code",
      "metadata": {
        "id": "L7M-QSMkYa5a",
        "colab_type": "code",
        "colab": {}
      },
      "source": [
        "# 构建DataFrame，并保存序列化，如果序列化过了，就无需无需执行这个内容，直接读入序列化的文件即可\n",
        "# 注意DataFrame的append是要赋值等号的形式：maskDF = maskDF.append(xxx)，这个使用形式和其他直接append无法赋值就生效的不一致，要十分注意\n",
        "datasetPath = Path('./data/self-built-masked-face-recognition-dataset')\n",
        "maskPath = datasetPath/'AFDB_masked_face_dataset'\n",
        "nonMaskPath = datasetPath/'AFDB_face_dataset'\n",
        "\n",
        "maskDF = pd.DataFrame()\n",
        "\n",
        "for subject in tqdm(list(maskPath.iterdir()),desc='mask photos'):\n",
        "  for imgPath in subject.iterdir():\n",
        "    maskDF = maskDF.append({\n",
        "        'image': str(imgPath),\n",
        "        'mask': 1\n",
        "    }, ignore_index=True)\n",
        "\n",
        "for subject in tqdm(list(nonMaskPath.iterdir()),desc='no mask photos'):\n",
        "  for imgPath in subject.iterdir():\n",
        "    maskDF = maskDF.append({\n",
        "        'image': str(imgPath),\n",
        "        'mask': 0\n",
        "    }, ignore_index=True)\n",
        "    \n",
        "dfName = './data/mask_df.pickle'\n",
        "print(f'saving DataFrame to {dfName}')\n",
        "maskDF.to_pickle(dfName) # 保存序列化文件，读取的函数使用pd.read_pickle"
      ],
      "execution_count": 0,
      "outputs": []
    },
    {
      "cell_type": "code",
      "metadata": {
        "id": "ayv1AWz9sRWY",
        "colab_type": "code",
        "colab": {}
      },
      "source": [
        "# 如果已经序列化过，直接执行这个创建DataFrame即可\n",
        "maskDF = pd.read_pickle('./data/mask_df.pickle')"
      ],
      "execution_count": 0,
      "outputs": []
    },
    {
      "cell_type": "code",
      "metadata": {
        "id": "uuRrFpqOp7R5",
        "colab_type": "code",
        "colab": {
          "base_uri": "https://localhost:8080/",
          "height": 71
        },
        "outputId": "312dc572-d44b-4eb9-a4a3-524934c00aef"
      },
      "source": [
        "# 统计结果中共有戴口罩的人脸图片是2203张，正常人脸是90468张\n",
        "# 和Github数据集上说明的5千张戴口罩和9万张正常人脸有一定的出入\n",
        "maskDF['mask'].value_counts()"
      ],
      "execution_count": 18,
      "outputs": [
        {
          "output_type": "execute_result",
          "data": {
            "text/plain": [
              "0.0    90468\n",
              "1.0     2203\n",
              "Name: mask, dtype: int64"
            ]
          },
          "metadata": {
            "tags": []
          },
          "execution_count": 18
        }
      ]
    },
    {
      "cell_type": "code",
      "metadata": {
        "id": "I34ThlqxuRxL",
        "colab_type": "code",
        "colab": {}
      },
      "source": [
        "# 构建Dataset，这里是为了能够让PyTorch进行读取\n",
        "import cv2\n",
        "from torch import long, tensor\n",
        "from torch.utils.data.dataset import Dataset\n",
        "from torchvision.transforms import Compose, Resize, ToPILImage, ToTensor"
      ],
      "execution_count": 0,
      "outputs": []
    },
    {
      "cell_type": "code",
      "metadata": {
        "id": "hmRxgFryvcEs",
        "colab_type": "code",
        "colab": {}
      },
      "source": [
        "class MaskDataset(Dataset):\n",
        "  def __init__(self, dataFrame):\n",
        "    self.dataFrame = dataFrame\n",
        "    self.transformations = Compose([\n",
        "        ToPILImage(),\n",
        "        Resize((100, 100)), # 每张人脸的大小调整为100*100\n",
        "        ToTensor(),\n",
        "    ])\n",
        "    \n",
        "  def __getitem__(self, key):\n",
        "    if isinstance(key, slice):\n",
        "      raise NotImplementedError('slicing is not supported')\n",
        "    row = self.dataFrame.iloc[key]\n",
        "    return {\n",
        "        'image': self.transformations(cv2.imread(row['image'])),\n",
        "        'mask': tensor([row['mask']], dtype=long)\n",
        "    }\n",
        "\n",
        "  def __len__(self):\n",
        "    return len(self.dataFrame.index)"
      ],
      "execution_count": 0,
      "outputs": []
    },
    {
      "cell_type": "code",
      "metadata": {
        "id": "_5NefYqaw_TR",
        "colab_type": "code",
        "colab": {}
      },
      "source": [
        "!pip install pytorch-lightning -q"
      ],
      "execution_count": 0,
      "outputs": []
    },
    {
      "cell_type": "code",
      "metadata": {
        "id": "Tgn90swxwaZt",
        "colab_type": "code",
        "colab": {}
      },
      "source": [
        "# 构建模型\n",
        "from pathlib import Path\n",
        "from typing import Dict, List, Union\n",
        "\n",
        "import pandas as pd\n",
        "import pytorch_lightning as pl\n",
        "import torch\n",
        "import torch.nn.init as init\n",
        "\n",
        "from pytorch_lightning import Trainer\n",
        "from pytorch_lightning.callbacks import ModelCheckpoint\n",
        "from sklearn.metrics import accuracy_score\n",
        "from sklearn.model_selection import train_test_split\n",
        "from torch import Tensor\n",
        "from torch.nn import (Conv2d, CrossEntropyLoss, Linear, MaxPool2d, ReLU, Sequential)\n",
        "from torch.optim import Adam\n",
        "from torch.optim.optimizer import Optimizer\n",
        "from torch.utils.data import DataLoader"
      ],
      "execution_count": 0,
      "outputs": []
    },
    {
      "cell_type": "code",
      "metadata": {
        "id": "4qJHYp07wtRL",
        "colab_type": "code",
        "colab": {}
      },
      "source": [
        ""
      ],
      "execution_count": 0,
      "outputs": []
    }
  ]
}