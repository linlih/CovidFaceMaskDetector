{
  "nbformat": 4,
  "nbformat_minor": 0,
  "metadata": {
    "colab": {
      "name": "Covid Face Mask Detector.ipynb",
      "provenance": [],
      "collapsed_sections": [],
      "toc_visible": true,
      "authorship_tag": "ABX9TyMnLun8JZ7DPsMguQ+1OEDg",
      "include_colab_link": true
    },
    "kernelspec": {
      "name": "python3",
      "display_name": "Python 3"
    },
    "accelerator": "GPU"
  },
  "cells": [
    {
      "cell_type": "markdown",
      "metadata": {
        "id": "view-in-github",
        "colab_type": "text"
      },
      "source": [
        "<a href=\"https://colab.research.google.com/github/linlih/CovidFaceMaskDetector/blob/master/Covid_Face_Mask_Detector.ipynb\" target=\"_parent\"><img src=\"https://colab.research.google.com/assets/colab-badge.svg\" alt=\"Open In Colab\"/></a>"
      ]
    },
    {
      "cell_type": "markdown",
      "metadata": {
        "id": "SEHkTq00Vxoh",
        "colab_type": "text"
      },
      "source": [
        "# 下载数据\n",
        "\n",
        "数据来源：https://github.com/X-zhangyang/Real-World-Masked-Face-Dataset\n"
      ]
    },
    {
      "cell_type": "code",
      "metadata": {
        "id": "vsSlIPIvVpTv",
        "colab_type": "code",
        "colab": {}
      },
      "source": [
        "from pathlib import Path\n",
        "\n",
        "import pandas as pd\n",
        "from google_drive_downloader import GoogleDriveDownloader as gdd\n",
        "from tqdm import tqdm"
      ],
      "execution_count": 0,
      "outputs": []
    },
    {
      "cell_type": "code",
      "metadata": {
        "id": "jpfo5MQHXzZl",
        "colab_type": "code",
        "outputId": "8f7aa376-ce9f-4531-9a7e-457af994c565",
        "colab": {
          "base_uri": "https://localhost:8080/",
          "height": 53
        }
      },
      "source": [
        "datasetPath = Path('./data/mask.zip')\n",
        "# 从GoogleDrive的共享文件中下载训练数据\n",
        "gdd.download_file_from_google_drive(file_id='1UlOk6EtiaXTHylRUx2mySgvJX9ycoeBp',\n",
        "                  dest_path=str(datasetPath),\n",
        "                  unzip=True)"
      ],
      "execution_count": 2,
      "outputs": [
        {
          "output_type": "stream",
          "text": [
            "Downloading 1UlOk6EtiaXTHylRUx2mySgvJX9ycoeBp into data/mask.zip... Done.\n",
            "Unzipping...Done.\n"
          ],
          "name": "stdout"
        }
      ]
    },
    {
      "cell_type": "code",
      "metadata": {
        "id": "ihBIAXqTX8rD",
        "colab_type": "code",
        "colab": {}
      },
      "source": [
        "datasetPath.unlink() # 删除下载的zipwe文件"
      ],
      "execution_count": 0,
      "outputs": []
    },
    {
      "cell_type": "code",
      "metadata": {
        "id": "L7M-QSMkYa5a",
        "colab_type": "code",
        "outputId": "d77a189e-a137-48e2-96d8-97b3852d588d",
        "colab": {
          "base_uri": "https://localhost:8080/",
          "height": 71
        }
      },
      "source": [
        "# 构建DataFrame，并保存序列化，如果序列化过了，就无需无需执行这个内容，直接读入序列化的文件即可\n",
        "# 注意DataFrame的append是要赋值等号的形式：maskDF = maskDF.append(xxx)，这个使用形式和其他直接append无法赋值就生效的不一致，要十分注意\n",
        "datasetPath = Path('./data/self-built-masked-face-recognition-dataset')\n",
        "maskPath = datasetPath/'AFDB_masked_face_dataset'\n",
        "nonMaskPath = datasetPath/'AFDB_face_dataset'\n",
        "\n",
        "maskDF = pd.DataFrame()\n",
        "\n",
        "for subject in tqdm(list(maskPath.iterdir()),desc='mask photos'):\n",
        "  for imgPath in subject.iterdir():\n",
        "    maskDF = maskDF.append({\n",
        "        'image': str(imgPath),\n",
        "        'mask': 1\n",
        "    }, ignore_index=True)\n",
        "\n",
        "for subject in tqdm(list(nonMaskPath.iterdir()),desc='no mask photos'):\n",
        "  for imgPath in subject.iterdir():\n",
        "    maskDF = maskDF.append({\n",
        "        'image': str(imgPath),\n",
        "        'mask': 0\n",
        "    }, ignore_index=True)\n",
        "    \n",
        "dfName = './data/mask_df.pickle'\n",
        "print(f'saving DataFrame to {dfName}')\n",
        "maskDF.to_pickle(dfName) # 保存序列化文件，读取的函数使用pd.read_pickle"
      ],
      "execution_count": 4,
      "outputs": [
        {
          "output_type": "stream",
          "text": [
            "mask photos: 100%|██████████| 525/525 [00:05<00:00, 92.19it/s]\n",
            "no mask photos: 100%|██████████| 460/460 [04:33<00:00,  1.68it/s]"
          ],
          "name": "stderr"
        },
        {
          "output_type": "stream",
          "text": [
            "saving DataFrame to ./data/mask_df.pickle\n"
          ],
          "name": "stdout"
        },
        {
          "output_type": "stream",
          "text": [
            "\n"
          ],
          "name": "stderr"
        }
      ]
    },
    {
      "cell_type": "code",
      "metadata": {
        "id": "ayv1AWz9sRWY",
        "colab_type": "code",
        "colab": {}
      },
      "source": [
        "# 如果已经序列化过，直接执行这个创建DataFrame即可\n",
        "maskDF = pd.read_pickle('./data/mask_df.pickle')"
      ],
      "execution_count": 0,
      "outputs": []
    },
    {
      "cell_type": "code",
      "metadata": {
        "id": "uuRrFpqOp7R5",
        "colab_type": "code",
        "colab": {}
      },
      "source": [
        "# 统计结果中共有戴口罩的人脸图片是2203张，正常人脸是90468张\n",
        "# 和Github数据集上说明的5千张戴口罩和9万张正常人脸有一定的出入\n",
        "maskDF['mask'].value_counts()"
      ],
      "execution_count": 0,
      "outputs": []
    },
    {
      "cell_type": "code",
      "metadata": {
        "id": "I34ThlqxuRxL",
        "colab_type": "code",
        "colab": {}
      },
      "source": [
        "# 构建Dataset，这里是为了能够让PyTorch进行读取\n",
        "import cv2\n",
        "from torch import long, tensor\n",
        "from torch.utils.data.dataset import Dataset\n",
        "from torchvision.transforms import Compose, Resize, ToPILImage, ToTensor"
      ],
      "execution_count": 0,
      "outputs": []
    },
    {
      "cell_type": "code",
      "metadata": {
        "id": "hmRxgFryvcEs",
        "colab_type": "code",
        "colab": {}
      },
      "source": [
        "class MaskDataset(Dataset):\n",
        "  def __init__(self, dataFrame):\n",
        "    self.dataFrame = dataFrame\n",
        "    self.transformations = Compose([\n",
        "        ToPILImage(),\n",
        "        Resize((100, 100)), # 每张人脸的大小调整为100*100\n",
        "        ToTensor(),\n",
        "    ])\n",
        "    \n",
        "  def __getitem__(self, key):\n",
        "    if isinstance(key, slice):\n",
        "      raise NotImplementedError('slicing is not supported')\n",
        "    row = self.dataFrame.iloc[key]\n",
        "    return {\n",
        "        'image': self.transformations(cv2.imread(row['image'])),\n",
        "        'mask': tensor([row['mask']], dtype=long)\n",
        "    }\n",
        "\n",
        "  def __len__(self):\n",
        "    return len(self.dataFrame.index)"
      ],
      "execution_count": 0,
      "outputs": []
    },
    {
      "cell_type": "code",
      "metadata": {
        "id": "_5NefYqaw_TR",
        "colab_type": "code",
        "outputId": "1b05defb-921d-4975-d8a1-db83e76c4c93",
        "colab": {
          "base_uri": "https://localhost:8080/",
          "height": 71
        }
      },
      "source": [
        "!pip install pytorch-lightning -q"
      ],
      "execution_count": 7,
      "outputs": [
        {
          "output_type": "stream",
          "text": [
            "\u001b[K     |████████████████████████████████| 256kB 8.3MB/s \n",
            "\u001b[K     |████████████████████████████████| 829kB 16.5MB/s \n",
            "\u001b[?25h  Building wheel for future (setup.py) ... \u001b[?25l\u001b[?25hdone\n"
          ],
          "name": "stdout"
        }
      ]
    },
    {
      "cell_type": "code",
      "metadata": {
        "id": "Tgn90swxwaZt",
        "colab_type": "code",
        "colab": {}
      },
      "source": [
        "# 构建模型\n",
        "from pathlib import Path\n",
        "from typing import Dict, List, Union\n",
        "\n",
        "import pandas as pd\n",
        "import pytorch_lightning as pl\n",
        "import torch\n",
        "import torch.nn.init as init\n",
        "\n",
        "from pytorch_lightning import Trainer\n",
        "from pytorch_lightning.callbacks import ModelCheckpoint\n",
        "from sklearn.metrics import accuracy_score\n",
        "from sklearn.model_selection import train_test_split\n",
        "from torch import Tensor\n",
        "from torch.nn import (Conv2d, CrossEntropyLoss, Linear, MaxPool2d, ReLU, Sequential)\n",
        "from torch.optim import Adam\n",
        "from torch.optim.optimizer import Optimizer\n",
        "from torch.utils.data import DataLoader"
      ],
      "execution_count": 0,
      "outputs": []
    },
    {
      "cell_type": "code",
      "metadata": {
        "id": "4qJHYp07wtRL",
        "colab_type": "code",
        "colab": {}
      },
      "source": [
        "class MaskDetector(pl.LightningModule):\n",
        "  def __init__(self, maskDFPath: Path=None):\n",
        "    super(MaskDetector, self).__init__()\n",
        "    self.maskDFPath = maskDFPath\n",
        "    self.maskDF = None\n",
        "    self.trainDF = None\n",
        "    self.validationDF = None\n",
        "    self.crossEntropyLoss = None\n",
        "    self.learningRate = 0.00001\n",
        "\n",
        "    self.convLayer1 = convLayer1 = Sequential(Conv2d(3, 32, kernel_size=(3, 3), padding=(1, 1)),\n",
        "                           ReLU(),\n",
        "                           MaxPool2d(kernel_size=(2, 2))\n",
        "                           )\n",
        "    self.convLayer2 = convLayer2 = Sequential(Conv2d(32, 64, kernel_size=(3, 3), padding=(1, 1)),\n",
        "                           ReLU(),\n",
        "                           MaxPool2d(kernel_size=(2, 2))\n",
        "                           )\n",
        "    self.convLayer3 = convLayer3 = Sequential(Conv2d(64, 128, kernel_size=(3, 3), padding=(1, 1), stride=(3, 3)),\n",
        "                           ReLU(),\n",
        "                           MaxPool2d(kernel_size=(2, 2))\n",
        "                           )\n",
        "    self.linearLayers = linearLayers = Sequential(Linear(in_features=2048, out_features=1024),\n",
        "                            ReLU(),\n",
        "                            Linear(in_features=1024, out_features=2))\n",
        "    \n",
        "    for sequential in [convLayer1, convLayer2, convLayer3, linearLayers]:\n",
        "      for layer in sequential.children():\n",
        "        if isinstance(layer, (Linear, Conv2d)):\n",
        "          init.xavier_uniform_(layer.weight)\n",
        "  \n",
        "  def forward(self, x: Tensor):\n",
        "    out = self.convLayer1(x)\n",
        "    out = self.convLayer2(out)\n",
        "    out = self.convLayer3(out)\n",
        "    out = out.view(-1, 2048)\n",
        "    out = self.linearLayers(out)\n",
        "    return out\n",
        "  \n",
        "  def prepare_data(self) -> None:\n",
        "    self.maskDF = maskDF = pd.read_pickle(self.maskDFPath)\n",
        "    train, validate = train_test_split(maskDF, test_size=0.3, random_state=0, stratify=maskDF['mask'])\n",
        "    self.trainDF = MaskDataset(train)\n",
        "    self.validateDF = MaskDataset(validate)\n",
        "\n",
        "    maskNum = maskDF[maskDF['mask'] == 1].shape[0]\n",
        "    nonMaskNum = maskDF[maskDF['mask'] == 0].shape[0]\n",
        "    nSamples = [nonMaskNum, maskNum]\n",
        "    normedWeights = [1 - (x/sum(nSamples)) for x in nSamples]\n",
        "    self.crossEntropyLoss = CrossEntropyLoss(weight=torch.tensor(normedWeights))\n",
        "\n",
        "  def train_dataloader(self) -> DataLoader:\n",
        "    return DataLoader(self.trainDF, batch_size=32, shuffle=True, num_workers=4)\n",
        "\n",
        "  def val_dataloader(self) -> DataLoader:\n",
        "    return DataLoader(self.validateDF, batch_size=32, num_workers=4)\n",
        "  \n",
        "  def configure_optimizers(self) -> Optimizer:\n",
        "    return Adam(self.parameters(), lr=self.learningRate)\n",
        "\n",
        "  def training_step(self, batch: dict, _batch_idx: int) -> Dict[str, Tensor]:\n",
        "    inputs, labels = batch['image'], batch['mask']\n",
        "    labels = labels.flatten()\n",
        "    outputs = self.forward(inputs)\n",
        "    loss = self.crossEntropyLoss(outputs, labels)\n",
        "    \n",
        "    tensorboardLogs = {'train_loss': loss}\n",
        "    return {'loss': loss, 'log': tensorboardLogs}\n",
        "\n",
        "  def validation_step(self, batch:dict, _batch_idx: int) -> Dict[str, Tensor]:\n",
        "    inputs, labels = batch['image'], batch['mask']\n",
        "    labels = labels.flatten()\n",
        "    outputs = self.forward(inputs)\n",
        "    loss = self.crossEntropyLoss(outputs, labels)\n",
        "\n",
        "    _, outputs = torch.max(outputs, dim=1)\n",
        "    valAcc = accuracy_score(outputs.cpu(), labels.cpu())\n",
        "    valAcc = torch.tensor(valAcc)\n",
        "    return {'val_loss': loss, 'val_acc': valAcc}\n",
        "  \n",
        "  def validation_epoch_end(self, outputs: List[Dict[str, Tensor]]) \\\n",
        "     -> Dict[str, Union[Tensor, Dict[str, Tensor]]]:\n",
        "    avgLoss = torch.stack([x['val_loss'] for x in outputs]).mean()\n",
        "    avgAcc = torch.stack([x['val_acc'] for x in outputs]).mean()\n",
        "    tensorboardLogs = {'val_loss': avgLoss, 'val_acc': avgAcc}\n",
        "    return {'val_loss':avgLoss, 'log': tensorboardLogs}"
      ],
      "execution_count": 0,
      "outputs": []
    },
    {
      "cell_type": "code",
      "metadata": {
        "id": "mR0rCOCFuZ7A",
        "colab_type": "code",
        "colab": {
          "base_uri": "https://localhost:8080/"
        },
        "outputId": "2237f0cc-9a83-4c75-8c5f-274563700f5d"
      },
      "source": [
        "# colab在这里训练会卡死\n",
        "model = MaskDetector(Path('./data/mask_df.pickle'))\n",
        "\n",
        "checkpoint_callback = ModelCheckpoint(\n",
        "    filepath = './checkpoints/weights.ckpt',\n",
        "    save_weights_only=True,\n",
        "    verbose=True,\n",
        "    monitor='val_acc',\n",
        "    mode='max'\n",
        ")\n",
        "trainer = Trainer(gpus=1,\n",
        "          max_epochs=10,\n",
        "          checkpoint_callback=checkpoint_callback,\n",
        "          profiler=True)\n",
        "trainer.fit(model)"
      ],
      "execution_count": 10,
      "outputs": [
        {
          "output_type": "stream",
          "text": [
            "GPU available: True, used: True\n",
            "No environment variable for node rank defined. Set as 0.\n",
            "CUDA_VISIBLE_DEVICES: [0]\n",
            "\n",
            "   | Name             | Type             | Params\n",
            "--------------------------------------------------\n",
            "0  | convLayer1       | Sequential       | 896   \n",
            "1  | convLayer1.0     | Conv2d           | 896   \n",
            "2  | convLayer1.1     | ReLU             | 0     \n",
            "3  | convLayer1.2     | MaxPool2d        | 0     \n",
            "4  | convLayer2       | Sequential       | 18 K  \n",
            "5  | convLayer2.0     | Conv2d           | 18 K  \n",
            "6  | convLayer2.1     | ReLU             | 0     \n",
            "7  | convLayer2.2     | MaxPool2d        | 0     \n",
            "8  | convLayer3       | Sequential       | 73 K  \n",
            "9  | convLayer3.0     | Conv2d           | 73 K  \n",
            "10 | convLayer3.1     | ReLU             | 0     \n",
            "11 | convLayer3.2     | MaxPool2d        | 0     \n",
            "12 | linearLayers     | Sequential       | 2 M   \n",
            "13 | linearLayers.0   | Linear           | 2 M   \n",
            "14 | linearLayers.1   | ReLU             | 0     \n",
            "15 | linearLayers.2   | Linear           | 2 K   \n",
            "16 | crossEntropyLoss | CrossEntropyLoss | 0     \n"
          ],
          "name": "stderr"
        },
        {
          "output_type": "display_data",
          "data": {
            "application/vnd.jupyter.widget-view+json": {
              "model_id": "dbe32df37e6f4b798f3cd9083e3ba5e7",
              "version_minor": 0,
              "version_major": 2
            },
            "text/plain": [
              "HBox(children=(FloatProgress(value=1.0, bar_style='info', description='Validation sanity check', layout=Layout…"
            ]
          },
          "metadata": {
            "tags": []
          }
        },
        {
          "output_type": "stream",
          "text": [
            "\r"
          ],
          "name": "stdout"
        },
        {
          "output_type": "display_data",
          "data": {
            "application/vnd.jupyter.widget-view+json": {
              "model_id": "3712a5eb4f3a436eb1befc0691154c4b",
              "version_minor": 0,
              "version_major": 2
            },
            "text/plain": [
              "HBox(children=(FloatProgress(value=1.0, bar_style='info', description='Training', layout=Layout(flex='2'), max…"
            ]
          },
          "metadata": {
            "tags": []
          }
        },
        {
          "output_type": "display_data",
          "data": {
            "application/vnd.jupyter.widget-view+json": {
              "model_id": "da5579cb7bc74619b94fb461ec1042d1",
              "version_minor": 0,
              "version_major": 2
            },
            "text/plain": [
              "HBox(children=(FloatProgress(value=1.0, bar_style='info', description='Validating', layout=Layout(flex='2'), m…"
            ]
          },
          "metadata": {
            "tags": []
          }
        },
        {
          "output_type": "stream",
          "text": [
            "\n",
            "Epoch 00000: val_acc reached 0.96223 (best 0.96223), saving model to ./checkpoints/_ckpt_epoch_0.ckpt as top 1\n",
            "/usr/local/lib/python3.6/dist-packages/pytorch_lightning/utilities/distributed.py:23: UserWarning: Did not find hyperparameters at model hparams. Saving checkpoint without hyperparameters.\n",
            "  warnings.warn(*args, **kwargs)\n"
          ],
          "name": "stderr"
        },
        {
          "output_type": "display_data",
          "data": {
            "application/vnd.jupyter.widget-view+json": {
              "model_id": "c0183e1506f04e9c825c514a89a3def7",
              "version_minor": 0,
              "version_major": 2
            },
            "text/plain": [
              "HBox(children=(FloatProgress(value=1.0, bar_style='info', description='Validating', layout=Layout(flex='2'), m…"
            ]
          },
          "metadata": {
            "tags": []
          }
        },
        {
          "output_type": "stream",
          "text": [
            "\n",
            "Epoch 00001: val_acc reached 0.97460 (best 0.97460), saving model to ./checkpoints/_ckpt_epoch_1.ckpt as top 1\n"
          ],
          "name": "stderr"
        },
        {
          "output_type": "display_data",
          "data": {
            "application/vnd.jupyter.widget-view+json": {
              "model_id": "cc2e7fba4a3a4c2c940977f7402c614a",
              "version_minor": 0,
              "version_major": 2
            },
            "text/plain": [
              "HBox(children=(FloatProgress(value=1.0, bar_style='info', description='Validating', layout=Layout(flex='2'), m…"
            ]
          },
          "metadata": {
            "tags": []
          }
        },
        {
          "output_type": "stream",
          "text": [
            "\n",
            "Epoch 00002: val_acc  was not in top 1\n"
          ],
          "name": "stderr"
        },
        {
          "output_type": "display_data",
          "data": {
            "application/vnd.jupyter.widget-view+json": {
              "model_id": "014bd69cd3414518be7887f836d3aabc",
              "version_minor": 0,
              "version_major": 2
            },
            "text/plain": [
              "HBox(children=(FloatProgress(value=1.0, bar_style='info', description='Validating', layout=Layout(flex='2'), m…"
            ]
          },
          "metadata": {
            "tags": []
          }
        },
        {
          "output_type": "stream",
          "text": [
            "\n",
            "Epoch 00003: val_acc reached 0.99014 (best 0.99014), saving model to ./checkpoints/_ckpt_epoch_3.ckpt as top 1\n"
          ],
          "name": "stderr"
        },
        {
          "output_type": "display_data",
          "data": {
            "application/vnd.jupyter.widget-view+json": {
              "model_id": "c963ad6b58704a519bf32a9bddf8165e",
              "version_minor": 0,
              "version_major": 2
            },
            "text/plain": [
              "HBox(children=(FloatProgress(value=1.0, bar_style='info', description='Validating', layout=Layout(flex='2'), m…"
            ]
          },
          "metadata": {
            "tags": []
          }
        },
        {
          "output_type": "stream",
          "text": [
            "\n",
            "Epoch 00004: val_acc  was not in top 1\n"
          ],
          "name": "stderr"
        },
        {
          "output_type": "display_data",
          "data": {
            "application/vnd.jupyter.widget-view+json": {
              "model_id": "a9261c93d33f442d8b2815ba801cd0de",
              "version_minor": 0,
              "version_major": 2
            },
            "text/plain": [
              "HBox(children=(FloatProgress(value=1.0, bar_style='info', description='Validating', layout=Layout(flex='2'), m…"
            ]
          },
          "metadata": {
            "tags": []
          }
        },
        {
          "output_type": "stream",
          "text": [
            "\n",
            "Epoch 00005: val_acc  was not in top 1\n"
          ],
          "name": "stderr"
        },
        {
          "output_type": "display_data",
          "data": {
            "application/vnd.jupyter.widget-view+json": {
              "model_id": "788257cda8db40efb7383cc5dc784f6a",
              "version_minor": 0,
              "version_major": 2
            },
            "text/plain": [
              "HBox(children=(FloatProgress(value=1.0, bar_style='info', description='Validating', layout=Layout(flex='2'), m…"
            ]
          },
          "metadata": {
            "tags": []
          }
        },
        {
          "output_type": "stream",
          "text": [
            "\n",
            "Epoch 00006: val_acc  was not in top 1\n"
          ],
          "name": "stderr"
        },
        {
          "output_type": "display_data",
          "data": {
            "application/vnd.jupyter.widget-view+json": {
              "model_id": "4d20c81038bd48b6b86c6ca9929c62bd",
              "version_minor": 0,
              "version_major": 2
            },
            "text/plain": [
              "HBox(children=(FloatProgress(value=1.0, bar_style='info', description='Validating', layout=Layout(flex='2'), m…"
            ]
          },
          "metadata": {
            "tags": []
          }
        },
        {
          "output_type": "stream",
          "text": [
            "\n",
            "Epoch 00007: val_acc  was not in top 1\n"
          ],
          "name": "stderr"
        },
        {
          "output_type": "display_data",
          "data": {
            "application/vnd.jupyter.widget-view+json": {
              "model_id": "7341898653c641d2a74e34c900d17a7d",
              "version_minor": 0,
              "version_major": 2
            },
            "text/plain": [
              "HBox(children=(FloatProgress(value=1.0, bar_style='info', description='Validating', layout=Layout(flex='2'), m…"
            ]
          },
          "metadata": {
            "tags": []
          }
        },
        {
          "output_type": "stream",
          "text": [
            "\n",
            "Epoch 00008: val_acc reached 0.99227 (best 0.99227), saving model to ./checkpoints/_ckpt_epoch_8.ckpt as top 1\n"
          ],
          "name": "stderr"
        },
        {
          "output_type": "display_data",
          "data": {
            "application/vnd.jupyter.widget-view+json": {
              "model_id": "d1f0ff0e518f430baae197f6de1f51f3",
              "version_minor": 0,
              "version_major": 2
            },
            "text/plain": [
              "HBox(children=(FloatProgress(value=1.0, bar_style='info', description='Validating', layout=Layout(flex='2'), m…"
            ]
          },
          "metadata": {
            "tags": []
          }
        },
        {
          "output_type": "stream",
          "text": [
            "\n",
            "Epoch 00009: val_acc  was not in top 1\n",
            "\n",
            "\n",
            "Profiler Report\n",
            "\n",
            "Action              \t|  Mean duration (s)\t|  Total time (s) \n",
            "-----------------------------------------------------------------\n",
            "on_train_start      \t|  0.051214       \t|  0.051214       \n",
            "on_epoch_start      \t|  0.0025172      \t|  0.025172       \n",
            "get_train_batch     \t|  0.006346       \t|  128.76         \n",
            "on_batch_start      \t|  1.4932e-05     \t|  0.30282        \n",
            "model_forward       \t|  0.0058799      \t|  119.24         \n",
            "model_backward      \t|  0.0040581      \t|  82.298         \n",
            "on_after_backward   \t|  3.2854e-06     \t|  0.066628       \n",
            "optimizer_step      \t|  0.0027456      \t|  55.681         \n",
            "on_batch_end        \t|  0.010115       \t|  205.12         \n",
            "on_epoch_end        \t|  1.9402e-05     \t|  0.00019402     \n",
            "on_train_end        \t|  0.0042903      \t|  0.0042903      \n",
            "\n"
          ],
          "name": "stderr"
        },
        {
          "output_type": "stream",
          "text": [
            "\n"
          ],
          "name": "stdout"
        },
        {
          "output_type": "execute_result",
          "data": {
            "text/plain": [
              "1"
            ]
          },
          "metadata": {
            "tags": []
          },
          "execution_count": 10
        }
      ]
    },
    {
      "cell_type": "code",
      "metadata": {
        "id": "jQS4yxEUvAqP",
        "colab_type": "code",
        "colab": {}
      },
      "source": [
        ""
      ],
      "execution_count": 0,
      "outputs": []
    }
  ]
}