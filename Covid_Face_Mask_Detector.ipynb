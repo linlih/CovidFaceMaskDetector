{
  "nbformat": 4,
  "nbformat_minor": 0,
  "metadata": {
    "colab": {
      "name": "Covid Face Mask Detector.ipynb",
      "provenance": [],
      "collapsed_sections": [],
      "authorship_tag": "ABX9TyO1yhyGmoPXjNusUZp8RRGT",
      "include_colab_link": true
    },
    "kernelspec": {
      "name": "python3",
      "display_name": "Python 3"
    }
  },
  "cells": [
    {
      "cell_type": "markdown",
      "metadata": {
        "id": "view-in-github",
        "colab_type": "text"
      },
      "source": [
        "<a href=\"https://colab.research.google.com/github/linlih/CovidFaceMaskDetector/blob/master/Covid_Face_Mask_Detector.ipynb\" target=\"_parent\"><img src=\"https://colab.research.google.com/assets/colab-badge.svg\" alt=\"Open In Colab\"/></a>"
      ]
    },
    {
      "cell_type": "markdown",
      "metadata": {
        "id": "SEHkTq00Vxoh",
        "colab_type": "text"
      },
      "source": [
        "# 下载数据\n",
        "\n",
        "数据来源：https://github.com/X-zhangyang/Real-World-Masked-Face-Dataset\n"
      ]
    },
    {
      "cell_type": "code",
      "metadata": {
        "id": "vsSlIPIvVpTv",
        "colab_type": "code",
        "colab": {}
      },
      "source": [
        "from pathlib import Path\n",
        "\n",
        "import pandas as pd\n",
        "from google_drive_downloader import GoogleDriveDownloader as gdd\n",
        "from tqdm import tqdm"
      ],
      "execution_count": 0,
      "outputs": []
    },
    {
      "cell_type": "code",
      "metadata": {
        "id": "jpfo5MQHXzZl",
        "colab_type": "code",
        "colab": {
          "base_uri": "https://localhost:8080/",
          "height": 53
        },
        "outputId": "82477809-9e8d-4825-ceb6-963bb9b141ae"
      },
      "source": [
        "datasetPath = Path('./data/mask.zip')\n",
        "gdd.download_file_from_google_drive(file_id='1UlOk6EtiaXTHylRUx2mySgvJX9ycoeBp',\n",
        "                  dest_path=str(datasetPath),\n",
        "                  unzip=True)"
      ],
      "execution_count": 3,
      "outputs": [
        {
          "output_type": "stream",
          "text": [
            "Downloading 1UlOk6EtiaXTHylRUx2mySgvJX9ycoeBp into data/mask.zip... Done.\n",
            "Unzipping...Done.\n"
          ],
          "name": "stdout"
        }
      ]
    },
    {
      "cell_type": "code",
      "metadata": {
        "id": "ihBIAXqTX8rD",
        "colab_type": "code",
        "colab": {}
      },
      "source": [
        "datasetPath.unlink()"
      ],
      "execution_count": 0,
      "outputs": []
    },
    {
      "cell_type": "code",
      "metadata": {
        "id": "UfN4dlRKYR_b",
        "colab_type": "code",
        "colab": {}
      },
      "source": [
        "datasetPath = Path('./data/self-built-masked-face-recognition-dataset')\n",
        "maskPath = datasetPath/'AFDB_masked_face_dataset'\n",
        "nonMaskPath = datasetPath/'AFDB_face_dataset'"
      ],
      "execution_count": 0,
      "outputs": []
    },
    {
      "cell_type": "code",
      "metadata": {
        "id": "y2629jLyYUnl",
        "colab_type": "code",
        "colab": {}
      },
      "source": [
        "maskDF = pd.DataFrame()"
      ],
      "execution_count": 0,
      "outputs": []
    },
    {
      "cell_type": "code",
      "metadata": {
        "id": "L7M-QSMkYa5a",
        "colab_type": "code",
        "colab": {
          "base_uri": "https://localhost:8080/",
          "height": 35
        },
        "outputId": "ee534b4d-d1a7-4156-b8f3-c5feb2d6924d"
      },
      "source": [
        "for subject in tqdm(list(maskPath.iterdir()),desc='mask photos'):\n",
        "  for imgPath in subject.iterdir():\n",
        "    maskDF = maskDF.append({\n",
        "        'image': str(imgPath),\n",
        "        'mask': 1\n",
        "    }, ignore_index=True)"
      ],
      "execution_count": 7,
      "outputs": [
        {
          "output_type": "stream",
          "text": [
            "mask photos: 100%|██████████| 525/525 [00:06<00:00, 84.95it/s]\n"
          ],
          "name": "stderr"
        }
      ]
    },
    {
      "cell_type": "code",
      "metadata": {
        "id": "pIVH3xaCYy1T",
        "colab_type": "code",
        "colab": {
          "base_uri": "https://localhost:8080/",
          "height": 35
        },
        "outputId": "ca3d04c6-cc75-4484-b711-aa74f3012736"
      },
      "source": [
        "for subject in tqdm(list(nonMaskPath.iterdir()),desc='no mask photos'):\n",
        "  for imgPath in subject.iterdir():\n",
        "    maskDF = maskDF.append({\n",
        "        'image': str(imgPath),\n",
        "        'mask': 0\n",
        "    }, ignore_index=True)"
      ],
      "execution_count": 8,
      "outputs": [
        {
          "output_type": "stream",
          "text": [
            "no mask photos: 100%|██████████| 460/460 [05:11<00:00,  1.48it/s]\n"
          ],
          "name": "stderr"
        }
      ]
    },
    {
      "cell_type": "code",
      "metadata": {
        "id": "XMlKM_S4Y9Ff",
        "colab_type": "code",
        "colab": {
          "base_uri": "https://localhost:8080/",
          "height": 35
        },
        "outputId": "95bae6a2-9ca9-43e9-e2c1-113182a2d065"
      },
      "source": [
        "dfName = './data/mask_df.pickle'\n",
        "print(f'saving DataFrame to {dfName}')\n",
        "maskDF.to_pickle(dfName) # 保存序列化文件，读取的函数使用pd.read_pickle"
      ],
      "execution_count": 9,
      "outputs": [
        {
          "output_type": "stream",
          "text": [
            "saving DataFrame to ./data/mask_df.pickle\n"
          ],
          "name": "stdout"
        }
      ]
    },
    {
      "cell_type": "code",
      "metadata": {
        "id": "9NMg4cztbBap",
        "colab_type": "code",
        "colab": {
          "base_uri": "https://localhost:8080/",
          "height": 204
        },
        "outputId": "8e9b98f7-4248-4eb6-b040-efe642e1fcc0"
      },
      "source": [
        "maskDF.head()"
      ],
      "execution_count": 11,
      "outputs": [
        {
          "output_type": "execute_result",
          "data": {
            "text/html": [
              "<div>\n",
              "<style scoped>\n",
              "    .dataframe tbody tr th:only-of-type {\n",
              "        vertical-align: middle;\n",
              "    }\n",
              "\n",
              "    .dataframe tbody tr th {\n",
              "        vertical-align: top;\n",
              "    }\n",
              "\n",
              "    .dataframe thead th {\n",
              "        text-align: right;\n",
              "    }\n",
              "</style>\n",
              "<table border=\"1\" class=\"dataframe\">\n",
              "  <thead>\n",
              "    <tr style=\"text-align: right;\">\n",
              "      <th></th>\n",
              "      <th>image</th>\n",
              "      <th>mask</th>\n",
              "    </tr>\n",
              "  </thead>\n",
              "  <tbody>\n",
              "    <tr>\n",
              "      <th>0</th>\n",
              "      <td>data/self-built-masked-face-recognition-datase...</td>\n",
              "      <td>1.0</td>\n",
              "    </tr>\n",
              "    <tr>\n",
              "      <th>1</th>\n",
              "      <td>data/self-built-masked-face-recognition-datase...</td>\n",
              "      <td>1.0</td>\n",
              "    </tr>\n",
              "    <tr>\n",
              "      <th>2</th>\n",
              "      <td>data/self-built-masked-face-recognition-datase...</td>\n",
              "      <td>1.0</td>\n",
              "    </tr>\n",
              "    <tr>\n",
              "      <th>3</th>\n",
              "      <td>data/self-built-masked-face-recognition-datase...</td>\n",
              "      <td>1.0</td>\n",
              "    </tr>\n",
              "    <tr>\n",
              "      <th>4</th>\n",
              "      <td>data/self-built-masked-face-recognition-datase...</td>\n",
              "      <td>1.0</td>\n",
              "    </tr>\n",
              "  </tbody>\n",
              "</table>\n",
              "</div>"
            ],
            "text/plain": [
              "                                               image  mask\n",
              "0  data/self-built-masked-face-recognition-datase...   1.0\n",
              "1  data/self-built-masked-face-recognition-datase...   1.0\n",
              "2  data/self-built-masked-face-recognition-datase...   1.0\n",
              "3  data/self-built-masked-face-recognition-datase...   1.0\n",
              "4  data/self-built-masked-face-recognition-datase...   1.0"
            ]
          },
          "metadata": {
            "tags": []
          },
          "execution_count": 11
        }
      ]
    },
    {
      "cell_type": "code",
      "metadata": {
        "id": "ySiCf51CbDOd",
        "colab_type": "code",
        "colab": {}
      },
      "source": [
        "testDF = pd.read_pickle('/content/data/mask_df.pickle')"
      ],
      "execution_count": 0,
      "outputs": []
    },
    {
      "cell_type": "code",
      "metadata": {
        "id": "LehlWh4SprnB",
        "colab_type": "code",
        "colab": {
          "base_uri": "https://localhost:8080/",
          "height": 204
        },
        "outputId": "fae6c265-c423-4e97-8272-5c936064ed04"
      },
      "source": [
        "testDF.head()"
      ],
      "execution_count": 14,
      "outputs": [
        {
          "output_type": "execute_result",
          "data": {
            "text/html": [
              "<div>\n",
              "<style scoped>\n",
              "    .dataframe tbody tr th:only-of-type {\n",
              "        vertical-align: middle;\n",
              "    }\n",
              "\n",
              "    .dataframe tbody tr th {\n",
              "        vertical-align: top;\n",
              "    }\n",
              "\n",
              "    .dataframe thead th {\n",
              "        text-align: right;\n",
              "    }\n",
              "</style>\n",
              "<table border=\"1\" class=\"dataframe\">\n",
              "  <thead>\n",
              "    <tr style=\"text-align: right;\">\n",
              "      <th></th>\n",
              "      <th>image</th>\n",
              "      <th>mask</th>\n",
              "    </tr>\n",
              "  </thead>\n",
              "  <tbody>\n",
              "    <tr>\n",
              "      <th>0</th>\n",
              "      <td>data/self-built-masked-face-recognition-datase...</td>\n",
              "      <td>1.0</td>\n",
              "    </tr>\n",
              "    <tr>\n",
              "      <th>1</th>\n",
              "      <td>data/self-built-masked-face-recognition-datase...</td>\n",
              "      <td>1.0</td>\n",
              "    </tr>\n",
              "    <tr>\n",
              "      <th>2</th>\n",
              "      <td>data/self-built-masked-face-recognition-datase...</td>\n",
              "      <td>1.0</td>\n",
              "    </tr>\n",
              "    <tr>\n",
              "      <th>3</th>\n",
              "      <td>data/self-built-masked-face-recognition-datase...</td>\n",
              "      <td>1.0</td>\n",
              "    </tr>\n",
              "    <tr>\n",
              "      <th>4</th>\n",
              "      <td>data/self-built-masked-face-recognition-datase...</td>\n",
              "      <td>1.0</td>\n",
              "    </tr>\n",
              "  </tbody>\n",
              "</table>\n",
              "</div>"
            ],
            "text/plain": [
              "                                               image  mask\n",
              "0  data/self-built-masked-face-recognition-datase...   1.0\n",
              "1  data/self-built-masked-face-recognition-datase...   1.0\n",
              "2  data/self-built-masked-face-recognition-datase...   1.0\n",
              "3  data/self-built-masked-face-recognition-datase...   1.0\n",
              "4  data/self-built-masked-face-recognition-datase...   1.0"
            ]
          },
          "metadata": {
            "tags": []
          },
          "execution_count": 14
        }
      ]
    },
    {
      "cell_type": "code",
      "metadata": {
        "id": "uuRrFpqOp7R5",
        "colab_type": "code",
        "colab": {}
      },
      "source": [
        ""
      ],
      "execution_count": 0,
      "outputs": []
    }
  ]
}