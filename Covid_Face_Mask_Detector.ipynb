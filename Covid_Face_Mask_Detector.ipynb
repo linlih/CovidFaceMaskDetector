{
  "nbformat": 4,
  "nbformat_minor": 0,
  "metadata": {
    "colab": {
      "name": "Covid Face Mask Detector.ipynb",
      "provenance": [],
      "collapsed_sections": [],
      "authorship_tag": "ABX9TyPOfrOj+qOHyEKnh3Lj4DVI",
      "include_colab_link": true
    },
    "kernelspec": {
      "name": "python3",
      "display_name": "Python 3"
    },
    "accelerator": "GPU"
  },
  "cells": [
    {
      "cell_type": "markdown",
      "metadata": {
        "id": "view-in-github",
        "colab_type": "text"
      },
      "source": [
        "<a href=\"https://colab.research.google.com/github/linlih/CovidFaceMaskDetector/blob/master/Covid_Face_Mask_Detector.ipynb\" target=\"_parent\"><img src=\"https://colab.research.google.com/assets/colab-badge.svg\" alt=\"Open In Colab\"/></a>"
      ]
    },
    {
      "cell_type": "markdown",
      "metadata": {
        "id": "SEHkTq00Vxoh",
        "colab_type": "text"
      },
      "source": [
        "# 下载数据\n",
        "\n",
        "数据来源：https://github.com/X-zhangyang/Real-World-Masked-Face-Dataset\n"
      ]
    },
    {
      "cell_type": "code",
      "metadata": {
        "id": "vsSlIPIvVpTv",
        "colab_type": "code",
        "colab": {}
      },
      "source": [
        "from pathlib import Path\n",
        "\n",
        "import pandas as pd\n",
        "from google_drive_downloader import GoogleDriveDownloader as gdd\n",
        "from tqdm import tqdm"
      ],
      "execution_count": 0,
      "outputs": []
    },
    {
      "cell_type": "code",
      "metadata": {
        "id": "jpfo5MQHXzZl",
        "colab_type": "code",
        "outputId": "8f7aa376-ce9f-4531-9a7e-457af994c565",
        "colab": {
          "base_uri": "https://localhost:8080/",
          "height": 53
        }
      },
      "source": [
        "datasetPath = Path('./data/mask.zip')\n",
        "# 从GoogleDrive的共享文件中下载训练数据\n",
        "gdd.download_file_from_google_drive(file_id='1UlOk6EtiaXTHylRUx2mySgvJX9ycoeBp',\n",
        "                  dest_path=str(datasetPath),\n",
        "                  unzip=True)"
      ],
      "execution_count": 2,
      "outputs": [
        {
          "output_type": "stream",
          "text": [
            "Downloading 1UlOk6EtiaXTHylRUx2mySgvJX9ycoeBp into data/mask.zip... Done.\n",
            "Unzipping...Done.\n"
          ],
          "name": "stdout"
        }
      ]
    },
    {
      "cell_type": "code",
      "metadata": {
        "id": "ihBIAXqTX8rD",
        "colab_type": "code",
        "colab": {}
      },
      "source": [
        "datasetPath.unlink() # 删除下载的zipwe文件"
      ],
      "execution_count": 0,
      "outputs": []
    },
    {
      "cell_type": "code",
      "metadata": {
        "id": "L7M-QSMkYa5a",
        "colab_type": "code",
        "outputId": "d77a189e-a137-48e2-96d8-97b3852d588d",
        "colab": {
          "base_uri": "https://localhost:8080/",
          "height": 71
        }
      },
      "source": [
        "# 构建DataFrame，并保存序列化，如果序列化过了，就无需无需执行这个内容，直接读入序列化的文件即可\n",
        "# 注意DataFrame的append是要赋值等号的形式：maskDF = maskDF.append(xxx)，这个使用形式和其他直接append无法赋值就生效的不一致，要十分注意\n",
        "datasetPath = Path('./data/self-built-masked-face-recognition-dataset')\n",
        "maskPath = datasetPath/'AFDB_masked_face_dataset'\n",
        "nonMaskPath = datasetPath/'AFDB_face_dataset'\n",
        "\n",
        "maskDF = pd.DataFrame()\n",
        "\n",
        "for subject in tqdm(list(maskPath.iterdir()),desc='mask photos'):\n",
        "  for imgPath in subject.iterdir():\n",
        "    maskDF = maskDF.append({\n",
        "        'image': str(imgPath),\n",
        "        'mask': 1\n",
        "    }, ignore_index=True)\n",
        "\n",
        "for subject in tqdm(list(nonMaskPath.iterdir()),desc='no mask photos'):\n",
        "  for imgPath in subject.iterdir():\n",
        "    maskDF = maskDF.append({\n",
        "        'image': str(imgPath),\n",
        "        'mask': 0\n",
        "    }, ignore_index=True)\n",
        "    \n",
        "dfName = './data/mask_df.pickle'\n",
        "print(f'saving DataFrame to {dfName}')\n",
        "maskDF.to_pickle(dfName) # 保存序列化文件，读取的函数使用pd.read_pickle"
      ],
      "execution_count": 4,
      "outputs": [
        {
          "output_type": "stream",
          "text": [
            "mask photos: 100%|██████████| 525/525 [00:05<00:00, 92.19it/s]\n",
            "no mask photos: 100%|██████████| 460/460 [04:33<00:00,  1.68it/s]"
          ],
          "name": "stderr"
        },
        {
          "output_type": "stream",
          "text": [
            "saving DataFrame to ./data/mask_df.pickle\n"
          ],
          "name": "stdout"
        },
        {
          "output_type": "stream",
          "text": [
            "\n"
          ],
          "name": "stderr"
        }
      ]
    },
    {
      "cell_type": "code",
      "metadata": {
        "id": "ayv1AWz9sRWY",
        "colab_type": "code",
        "colab": {}
      },
      "source": [
        "# 如果已经序列化过，直接执行这个创建DataFrame即可\n",
        "maskDF = pd.read_pickle('./data/mask_df.pickle')"
      ],
      "execution_count": 0,
      "outputs": []
    },
    {
      "cell_type": "code",
      "metadata": {
        "id": "uuRrFpqOp7R5",
        "colab_type": "code",
        "colab": {}
      },
      "source": [
        "# 统计结果中共有戴口罩的人脸图片是2203张，正常人脸是90468张\n",
        "# 和Github数据集上说明的5千张戴口罩和9万张正常人脸有一定的出入\n",
        "maskDF['mask'].value_counts()"
      ],
      "execution_count": 0,
      "outputs": []
    },
    {
      "cell_type": "code",
      "metadata": {
        "id": "I34ThlqxuRxL",
        "colab_type": "code",
        "colab": {}
      },
      "source": [
        "# 构建Dataset，这里是为了能够让PyTorch进行读取\n",
        "import cv2\n",
        "from torch import long, tensor\n",
        "from torch.utils.data.dataset import Dataset\n",
        "from torchvision.transforms import Compose, Resize, ToPILImage, ToTensor"
      ],
      "execution_count": 0,
      "outputs": []
    },
    {
      "cell_type": "code",
      "metadata": {
        "id": "hmRxgFryvcEs",
        "colab_type": "code",
        "colab": {}
      },
      "source": [
        "class MaskDataset(Dataset):\n",
        "  def __init__(self, dataFrame):\n",
        "    self.dataFrame = dataFrame\n",
        "    self.transformations = Compose([\n",
        "        ToPILImage(),\n",
        "        Resize((100, 100)), # 每张人脸的大小调整为100*100\n",
        "        ToTensor(),\n",
        "    ])\n",
        "    \n",
        "  def __getitem__(self, key):\n",
        "    if isinstance(key, slice):\n",
        "      raise NotImplementedError('slicing is not supported')\n",
        "    row = self.dataFrame.iloc[key]\n",
        "    return {\n",
        "        'image': self.transformations(cv2.imread(row['image'])),\n",
        "        'mask': tensor([row['mask']], dtype=long)\n",
        "    }\n",
        "\n",
        "  def __len__(self):\n",
        "    return len(self.dataFrame.index)"
      ],
      "execution_count": 0,
      "outputs": []
    },
    {
      "cell_type": "code",
      "metadata": {
        "id": "_5NefYqaw_TR",
        "colab_type": "code",
        "outputId": "1b05defb-921d-4975-d8a1-db83e76c4c93",
        "colab": {
          "base_uri": "https://localhost:8080/",
          "height": 71
        }
      },
      "source": [
        "!pip install pytorch-lightning -q"
      ],
      "execution_count": 7,
      "outputs": [
        {
          "output_type": "stream",
          "text": [
            "\u001b[K     |████████████████████████████████| 256kB 8.3MB/s \n",
            "\u001b[K     |████████████████████████████████| 829kB 16.5MB/s \n",
            "\u001b[?25h  Building wheel for future (setup.py) ... \u001b[?25l\u001b[?25hdone\n"
          ],
          "name": "stdout"
        }
      ]
    },
    {
      "cell_type": "code",
      "metadata": {
        "id": "Tgn90swxwaZt",
        "colab_type": "code",
        "colab": {}
      },
      "source": [
        "# 构建模型\n",
        "from pathlib import Path\n",
        "from typing import Dict, List, Union\n",
        "\n",
        "import pandas as pd\n",
        "import pytorch_lightning as pl\n",
        "import torch\n",
        "import torch.nn.init as init\n",
        "\n",
        "from pytorch_lightning import Trainer\n",
        "from pytorch_lightning.callbacks import ModelCheckpoint\n",
        "from sklearn.metrics import accuracy_score\n",
        "from sklearn.model_selection import train_test_split\n",
        "from torch import Tensor\n",
        "from torch.nn import (Conv2d, CrossEntropyLoss, Linear, MaxPool2d, ReLU, Sequential)\n",
        "from torch.optim import Adam\n",
        "from torch.optim.optimizer import Optimizer\n",
        "from torch.utils.data import DataLoader"
      ],
      "execution_count": 0,
      "outputs": []
    },
    {
      "cell_type": "code",
      "metadata": {
        "id": "4qJHYp07wtRL",
        "colab_type": "code",
        "colab": {}
      },
      "source": [
        "class MaskDetector(pl.LightningModule):\n",
        "  def __init__(self, maskDFPath: Path=None):\n",
        "    super(MaskDetector, self).__init__()\n",
        "    self.maskDFPath = maskDFPath\n",
        "    self.maskDF = None\n",
        "    self.trainDF = None\n",
        "    self.validationDF = None\n",
        "    self.crossEntropyLoss = None\n",
        "    self.learningRate = 0.00001\n",
        "\n",
        "    self.convLayer1 = convLayer1 = Sequential(Conv2d(3, 32, kernel_size=(3, 3), padding=(1, 1)),\n",
        "                           ReLU(),\n",
        "                           MaxPool2d(kernel_size=(2, 2))\n",
        "                           )\n",
        "    self.convLayer2 = convLayer2 = Sequential(Conv2d(32, 64, kernel_size=(3, 3), padding=(1, 1)),\n",
        "                           ReLU(),\n",
        "                           MaxPool2d(kernel_size=(2, 2))\n",
        "                           )\n",
        "    self.convLayer3 = convLayer3 = Sequential(Conv2d(64, 128, kernel_size=(3, 3), padding=(1, 1), stride=(3, 3)),\n",
        "                           ReLU(),\n",
        "                           MaxPool2d(kernel_size=(2, 2))\n",
        "                           )\n",
        "    self.linearLayers = linearLayers = Sequential(Linear(in_features=2048, out_features=1024),\n",
        "                            ReLU(),\n",
        "                            Linear(in_features=1024, out_features=2))\n",
        "    \n",
        "    for sequential in [convLayer1, convLayer2, convLayer3, linearLayers]:\n",
        "      for layer in sequential.children():\n",
        "        if isinstance(layer, (Linear, Conv2d)):\n",
        "          init.xavier_uniform_(layer.weight)\n",
        "  \n",
        "  def forward(self, x: Tensor):\n",
        "    out = self.convLayer1(x)\n",
        "    out = self.convLayer2(out)\n",
        "    out = self.convLayer3(out)\n",
        "    out = out.view(-1, 2048)\n",
        "    out = self.linearLayers(out)\n",
        "    return out\n",
        "  \n",
        "  def prepare_data(self) -> None:\n",
        "    self.maskDF = maskDF = pd.read_pickle(self.maskDFPath)\n",
        "    train, validate = train_test_split(maskDF, test_size=0.3, random_state=0, stratify=maskDF['mask'])\n",
        "    self.trainDF = MaskDataset(train)\n",
        "    self.validateDF = MaskDataset(validate)\n",
        "\n",
        "    maskNum = maskDF[maskDF['mask'] == 1].shape[0]\n",
        "    nonMaskNum = maskDF[maskDF['mask'] == 0].shape[0]\n",
        "    nSamples = [nonMaskNum, maskNum]\n",
        "    normedWeights = [1 - (x/sum(nSamples)) for x in nSamples]\n",
        "    self.crossEntropyLoss = CrossEntropyLoss(weight=torch.tensor(normedWeights))\n",
        "\n",
        "  def train_dataloader(self) -> DataLoader:\n",
        "    return DataLoader(self.trainDF, batch_size=32, shuffle=True, num_workers=4)\n",
        "\n",
        "  def val_dataloader(self) -> DataLoader:\n",
        "    return DataLoader(self.validateDF, batch_size=32, num_workers=4)\n",
        "  \n",
        "  def configure_optimizers(self) -> Optimizer:\n",
        "    return Adam(self.parameters(), lr=self.learningRate)\n",
        "\n",
        "  def training_step(self, batch: dict, _batch_idx: int) -> Dict[str, Tensor]:\n",
        "    inputs, labels = batch['image'], batch['mask']\n",
        "    labels = labels.flatten()\n",
        "    outputs = self.forward(inputs)\n",
        "    loss = self.crossEntropyLoss(outputs, labels)\n",
        "    \n",
        "    tensorboardLogs = {'train_loss': loss}\n",
        "    return {'loss': loss, 'log': tensorboardLogs}\n",
        "\n",
        "  def validation_step(self, batch:dict, _batch_idx: int) -> Dict[str, Tensor]:\n",
        "    inputs, labels = batch['image'], batch['mask']\n",
        "    labels = labels.flatten()\n",
        "    outputs = self.forward(inputs)\n",
        "    loss = self.crossEntropyLoss(outputs, labels)\n",
        "\n",
        "    _, outputs = torch.max(outputs, dim=1)\n",
        "    valAcc = accuracy_score(outputs.cpu(), labels.cpu())\n",
        "    valAcc = torch.tensor(valAcc)\n",
        "    return {'val_loss': loss, 'val_acc': valAcc}\n",
        "  \n",
        "  def validation_epoch_end(self, outputs: List[Dict[str, Tensor]]) \\\n",
        "     -> Dict[str, Union[Tensor, Dict[str, Tensor]]]:\n",
        "    avgLoss = torch.stack([x['val_loss'] for x in outputs]).mean()\n",
        "    avgAcc = torch.stack([x['val_acc'] for x in outputs]).mean()\n",
        "    tensorboardLogs = {'val_loss': avgLoss, 'val_acc': avgAcc}\n",
        "    return {'val_loss':avgLoss, 'log': tensorboardLogs}"
      ],
      "execution_count": 0,
      "outputs": []
    },
    {
      "cell_type": "code",
      "metadata": {
        "id": "mR0rCOCFuZ7A",
        "colab_type": "code",
        "colab": {
          "base_uri": "https://localhost:8080/"
        },
        "outputId": "2237f0cc-9a83-4c75-8c5f-274563700f5d"
      },
      "source": [
        "# colab在这里训练会卡死\n",
        "model = MaskDetector(Path('./data/mask_df.pickle'))\n",
        "\n",
        "checkpoint_callback = ModelCheckpoint(\n",
        "    filepath = './checkpoints/weights.ckpt',\n",
        "    save_weights_only=True,\n",
        "    verbose=True,\n",
        "    monitor='val_acc',\n",
        "    mode='max'\n",
        ")\n",
        "trainer = Trainer(gpus=1,\n",
        "          max_epochs=10,\n",
        "          checkpoint_callback=checkpoint_callback,\n",
        "          profiler=True)\n",
        "trainer.fit(model)"
      ],
      "execution_count": 10,
      "outputs": [
        {
          "output_type": "stream",
          "text": [
            "GPU available: True, used: True\n",
            "No environment variable for node rank defined. Set as 0.\n",
            "CUDA_VISIBLE_DEVICES: [0]\n",
            "\n",
            "   | Name             | Type             | Params\n",
            "--------------------------------------------------\n",
            "0  | convLayer1       | Sequential       | 896   \n",
            "1  | convLayer1.0     | Conv2d           | 896   \n",
            "2  | convLayer1.1     | ReLU             | 0     \n",
            "3  | convLayer1.2     | MaxPool2d        | 0     \n",
            "4  | convLayer2       | Sequential       | 18 K  \n",
            "5  | convLayer2.0     | Conv2d           | 18 K  \n",
            "6  | convLayer2.1     | ReLU             | 0     \n",
            "7  | convLayer2.2     | MaxPool2d        | 0     \n",
            "8  | convLayer3       | Sequential       | 73 K  \n",
            "9  | convLayer3.0     | Conv2d           | 73 K  \n",
            "10 | convLayer3.1     | ReLU             | 0     \n",
            "11 | convLayer3.2     | MaxPool2d        | 0     \n",
            "12 | linearLayers     | Sequential       | 2 M   \n",
            "13 | linearLayers.0   | Linear           | 2 M   \n",
            "14 | linearLayers.1   | ReLU             | 0     \n",
            "15 | linearLayers.2   | Linear           | 2 K   \n",
            "16 | crossEntropyLoss | CrossEntropyLoss | 0     \n"
          ],
          "name": "stderr"
        },
        {
          "output_type": "display_data",
          "data": {
            "application/vnd.jupyter.widget-view+json": {
              "model_id": "dbe32df37e6f4b798f3cd9083e3ba5e7",
              "version_minor": 0,
              "version_major": 2
            },
            "text/plain": [
              "HBox(children=(FloatProgress(value=1.0, bar_style='info', description='Validation sanity check', layout=Layout…"
            ]
          },
          "metadata": {
            "tags": []
          }
        },
        {
          "output_type": "stream",
          "text": [
            "\r"
          ],
          "name": "stdout"
        },
        {
          "output_type": "display_data",
          "data": {
            "application/vnd.jupyter.widget-view+json": {
              "model_id": "3712a5eb4f3a436eb1befc0691154c4b",
              "version_minor": 0,
              "version_major": 2
            },
            "text/plain": [
              "HBox(children=(FloatProgress(value=1.0, bar_style='info', description='Training', layout=Layout(flex='2'), max…"
            ]
          },
          "metadata": {
            "tags": []
          }
        },
        {
          "output_type": "display_data",
          "data": {
            "application/vnd.jupyter.widget-view+json": {
              "model_id": "da5579cb7bc74619b94fb461ec1042d1",
              "version_minor": 0,
              "version_major": 2
            },
            "text/plain": [
              "HBox(children=(FloatProgress(value=1.0, bar_style='info', description='Validating', layout=Layout(flex='2'), m…"
            ]
          },
          "metadata": {
            "tags": []
          }
        },
        {
          "output_type": "stream",
          "text": [
            "\n",
            "Epoch 00000: val_acc reached 0.96223 (best 0.96223), saving model to ./checkpoints/_ckpt_epoch_0.ckpt as top 1\n",
            "/usr/local/lib/python3.6/dist-packages/pytorch_lightning/utilities/distributed.py:23: UserWarning: Did not find hyperparameters at model hparams. Saving checkpoint without hyperparameters.\n",
            "  warnings.warn(*args, **kwargs)\n"
          ],
          "name": "stderr"
        },
        {
          "output_type": "display_data",
          "data": {
            "application/vnd.jupyter.widget-view+json": {
              "model_id": "c0183e1506f04e9c825c514a89a3def7",
              "version_minor": 0,
              "version_major": 2
            },
            "text/plain": [
              "HBox(children=(FloatProgress(value=1.0, bar_style='info', description='Validating', layout=Layout(flex='2'), m…"
            ]
          },
          "metadata": {
            "tags": []
          }
        },
        {
          "output_type": "stream",
          "text": [
            "\n",
            "Epoch 00001: val_acc reached 0.97460 (best 0.97460), saving model to ./checkpoints/_ckpt_epoch_1.ckpt as top 1\n"
          ],
          "name": "stderr"
        },
        {
          "output_type": "display_data",
          "data": {
            "application/vnd.jupyter.widget-view+json": {
              "model_id": "cc2e7fba4a3a4c2c940977f7402c614a",
              "version_minor": 0,
              "version_major": 2
            },
            "text/plain": [
              "HBox(children=(FloatProgress(value=1.0, bar_style='info', description='Validating', layout=Layout(flex='2'), m…"
            ]
          },
          "metadata": {
            "tags": []
          }
        },
        {
          "output_type": "stream",
          "text": [
            "\n",
            "Epoch 00002: val_acc  was not in top 1\n"
          ],
          "name": "stderr"
        },
        {
          "output_type": "display_data",
          "data": {
            "application/vnd.jupyter.widget-view+json": {
              "model_id": "014bd69cd3414518be7887f836d3aabc",
              "version_minor": 0,
              "version_major": 2
            },
            "text/plain": [
              "HBox(children=(FloatProgress(value=1.0, bar_style='info', description='Validating', layout=Layout(flex='2'), m…"
            ]
          },
          "metadata": {
            "tags": []
          }
        },
        {
          "output_type": "stream",
          "text": [
            "\n",
            "Epoch 00003: val_acc reached 0.99014 (best 0.99014), saving model to ./checkpoints/_ckpt_epoch_3.ckpt as top 1\n"
          ],
          "name": "stderr"
        },
        {
          "output_type": "display_data",
          "data": {
            "application/vnd.jupyter.widget-view+json": {
              "model_id": "c963ad6b58704a519bf32a9bddf8165e",
              "version_minor": 0,
              "version_major": 2
            },
            "text/plain": [
              "HBox(children=(FloatProgress(value=1.0, bar_style='info', description='Validating', layout=Layout(flex='2'), m…"
            ]
          },
          "metadata": {
            "tags": []
          }
        },
        {
          "output_type": "stream",
          "text": [
            "\n",
            "Epoch 00004: val_acc  was not in top 1\n"
          ],
          "name": "stderr"
        },
        {
          "output_type": "display_data",
          "data": {
            "application/vnd.jupyter.widget-view+json": {
              "model_id": "a9261c93d33f442d8b2815ba801cd0de",
              "version_minor": 0,
              "version_major": 2
            },
            "text/plain": [
              "HBox(children=(FloatProgress(value=1.0, bar_style='info', description='Validating', layout=Layout(flex='2'), m…"
            ]
          },
          "metadata": {
            "tags": []
          }
        },
        {
          "output_type": "stream",
          "text": [
            "\n",
            "Epoch 00005: val_acc  was not in top 1\n"
          ],
          "name": "stderr"
        },
        {
          "output_type": "display_data",
          "data": {
            "application/vnd.jupyter.widget-view+json": {
              "model_id": "788257cda8db40efb7383cc5dc784f6a",
              "version_minor": 0,
              "version_major": 2
            },
            "text/plain": [
              "HBox(children=(FloatProgress(value=1.0, bar_style='info', description='Validating', layout=Layout(flex='2'), m…"
            ]
          },
          "metadata": {
            "tags": []
          }
        },
        {
          "output_type": "stream",
          "text": [
            "\n",
            "Epoch 00006: val_acc  was not in top 1\n"
          ],
          "name": "stderr"
        },
        {
          "output_type": "display_data",
          "data": {
            "application/vnd.jupyter.widget-view+json": {
              "model_id": "4d20c81038bd48b6b86c6ca9929c62bd",
              "version_minor": 0,
              "version_major": 2
            },
            "text/plain": [
              "HBox(children=(FloatProgress(value=1.0, bar_style='info', description='Validating', layout=Layout(flex='2'), m…"
            ]
          },
          "metadata": {
            "tags": []
          }
        },
        {
          "output_type": "stream",
          "text": [
            "\n",
            "Epoch 00007: val_acc  was not in top 1\n"
          ],
          "name": "stderr"
        },
        {
          "output_type": "display_data",
          "data": {
            "application/vnd.jupyter.widget-view+json": {
              "model_id": "7341898653c641d2a74e34c900d17a7d",
              "version_minor": 0,
              "version_major": 2
            },
            "text/plain": [
              "HBox(children=(FloatProgress(value=1.0, bar_style='info', description='Validating', layout=Layout(flex='2'), m…"
            ]
          },
          "metadata": {
            "tags": []
          }
        },
        {
          "output_type": "stream",
          "text": [
            "\n",
            "Epoch 00008: val_acc reached 0.99227 (best 0.99227), saving model to ./checkpoints/_ckpt_epoch_8.ckpt as top 1\n"
          ],
          "name": "stderr"
        },
        {
          "output_type": "display_data",
          "data": {
            "application/vnd.jupyter.widget-view+json": {
              "model_id": "d1f0ff0e518f430baae197f6de1f51f3",
              "version_minor": 0,
              "version_major": 2
            },
            "text/plain": [
              "HBox(children=(FloatProgress(value=1.0, bar_style='info', description='Validating', layout=Layout(flex='2'), m…"
            ]
          },
          "metadata": {
            "tags": []
          }
        },
        {
          "output_type": "stream",
          "text": [
            "\n",
            "Epoch 00009: val_acc  was not in top 1\n",
            "\n",
            "\n",
            "Profiler Report\n",
            "\n",
            "Action              \t|  Mean duration (s)\t|  Total time (s) \n",
            "-----------------------------------------------------------------\n",
            "on_train_start      \t|  0.051214       \t|  0.051214       \n",
            "on_epoch_start      \t|  0.0025172      \t|  0.025172       \n",
            "get_train_batch     \t|  0.006346       \t|  128.76         \n",
            "on_batch_start      \t|  1.4932e-05     \t|  0.30282        \n",
            "model_forward       \t|  0.0058799      \t|  119.24         \n",
            "model_backward      \t|  0.0040581      \t|  82.298         \n",
            "on_after_backward   \t|  3.2854e-06     \t|  0.066628       \n",
            "optimizer_step      \t|  0.0027456      \t|  55.681         \n",
            "on_batch_end        \t|  0.010115       \t|  205.12         \n",
            "on_epoch_end        \t|  1.9402e-05     \t|  0.00019402     \n",
            "on_train_end        \t|  0.0042903      \t|  0.0042903      \n",
            "\n"
          ],
          "name": "stderr"
        },
        {
          "output_type": "stream",
          "text": [
            "\n"
          ],
          "name": "stdout"
        },
        {
          "output_type": "execute_result",
          "data": {
            "text/plain": [
              "1"
            ]
          },
          "metadata": {
            "tags": []
          },
          "execution_count": 10
        }
      ]
    },
    {
      "cell_type": "code",
      "metadata": {
        "id": "jQS4yxEUvAqP",
        "colab_type": "code",
        "colab": {}
      },
      "source": [
        "# 下载训练好的模型\n",
        "!wget https://raw.githubusercontent.com/JadHADDAD92/covid-mask-detector/master/covid-mask-detector/models/face_mask.ckpt"
      ],
      "execution_count": 0,
      "outputs": []
    },
    {
      "cell_type": "code",
      "metadata": {
        "id": "Kkvx-LkxqHBw",
        "colab_type": "code",
        "colab": {}
      },
      "source": [
        "!wget https://raw.githubusercontent.com/JadHADDAD92/covid-mask-detector/master/covid-mask-detector/models/deploy.prototxt.txt\n",
        "!wget https://raw.githubusercontent.com/JadHADDAD92/covid-mask-detector/master/covid-mask-detector/models/res10_300x300_ssd_iter_140000.caffemodel"
      ],
      "execution_count": 0,
      "outputs": []
    },
    {
      "cell_type": "code",
      "metadata": {
        "id": "3JUoUp_-omuS",
        "colab_type": "code",
        "colab": {}
      },
      "source": [
        "from IPython.display import display, Javascript\n",
        "from google.colab.output import eval_js\n",
        "from base64 import b64decode\n",
        "from time import sleep\n",
        "\n",
        "def take_photo(filename='photo.jpg', quality=0.8):\n",
        "  js = Javascript('''\n",
        "    async function takePhoto(quality) {\n",
        "      const div = document.createElement('div');\n",
        "      const capture = document.createElement('button');\n",
        "      capture.textContent = 'Capture';\n",
        "      div.appendChild(capture);\n",
        "\n",
        "      const video = document.createElement('video');\n",
        "      video.style.display = 'block';\n",
        "      const stream = await navigator.mediaDevices.getUserMedia({video: true});\n",
        "\n",
        "      document.body.appendChild(div);\n",
        "      div.appendChild(video);\n",
        "      video.srcObject = stream;\n",
        "      await video.play();\n",
        "\n",
        "      // Resize the output to fit the video element.\n",
        "      google.colab.output.setIframeHeight(document.documentElement.scrollHeight, true);\n",
        "\n",
        "      //print(stream)\n",
        "\n",
        "      // Wait for Capture to be clicked.\n",
        "      await new Promise((resolve) => capture.onclick = resolve);\n",
        "\n",
        "      const canvas = document.createElement('canvas');\n",
        "      canvas.width = video.videoWidth;\n",
        "      canvas.height = video.videoHeight;\n",
        "      canvas.getContext('2d').drawImage(video, 0, 0);\n",
        "      stream.getVideoTracks()[0].stop();\n",
        "      div.remove();\n",
        "      return canvas.toDataURL('image/jpeg', quality);\n",
        "    }\n",
        "    ''')\n",
        "  data = js\n",
        "  print(data)\n",
        "  display(js)\n",
        "  data = eval_js('takePhoto({})'.format(quality))\n",
        "  print(data)\n",
        "\n",
        "    \n",
        "  binary = b64decode(data.split(',')[1])\n",
        "  with open(filename, 'wb') as f:\n",
        "    \n",
        "    f.write(binary)\n",
        "  return filename\n",
        "\n",
        "from IPython.display import Image\n",
        "try:\n",
        "  filename = take_photo()\n",
        "  print('Saved to {}'.format(filename))\n",
        "  \n",
        "  # Show the image which was just taken.\n",
        "  #display(Image(filename))\n",
        "except Exception as err:\n",
        "  # Errors will be thrown if the user does not have a webcam or if they do not\n",
        "  # grant the page permission to access it.\n",
        "  print(str(err))"
      ],
      "execution_count": 0,
      "outputs": []
    },
    {
      "cell_type": "code",
      "metadata": {
        "id": "VUkEs5LPq_HU",
        "colab_type": "code",
        "colab": {}
      },
      "source": [
        "from pathlib import Path\n",
        "\n",
        "import numpy as np\n",
        "from cv2 import resize\n",
        "from cv2.dnn import blobFromImage, readNetFromCaffe\n",
        "\n",
        "\n",
        "class FaceDetectorException(Exception):\n",
        "  \"\"\" generic default exception\n",
        "  \"\"\"\n",
        "\n",
        "\n",
        "class FaceDetector:\n",
        "  \"\"\" Face Detector class\n",
        "  \"\"\"\n",
        "  def __init__(self, prototype: Path=None, model: Path=None,\n",
        "                confidenceThreshold: float=0.6):\n",
        "    self.prototype = prototype\n",
        "    self.model = model\n",
        "    self.confidenceThreshold = confidenceThreshold\n",
        "    if self.prototype is None:\n",
        "        raise FaceDetectorException(\"must specify prototype '.prototxt.txt' file \"\n",
        "                                    \"path\")\n",
        "    if self.model is None:\n",
        "        raise FaceDetectorException(\"must specify model '.caffemodel' file path\")\n",
        "    self.classifier = readNetFromCaffe(str(prototype), str(model))\n",
        "  \n",
        "  def detect(self, image):\n",
        "    \"\"\" detect faces in image\n",
        "    \"\"\"\n",
        "    net = self.classifier\n",
        "    height, width = image.shape[:2]\n",
        "    blob = blobFromImage(resize(image, (300, 300)), 1.0,\n",
        "                          (300, 300), (104.0, 177.0, 123.0))\n",
        "    net.setInput(blob)\n",
        "    detections = net.forward()\n",
        "    faces = []\n",
        "    for i in range(0, detections.shape[2]):\n",
        "        confidence = detections[0, 0, i, 2]\n",
        "        if confidence < self.confidenceThreshold:\n",
        "            continue\n",
        "        box = detections[0, 0, i, 3:7] * np.array([width, height, width, height])\n",
        "        startX, startY, endX, endY = box.astype(\"int\")\n",
        "        faces.append(np.array([startX, startY, endX-startX, endY-startY]))\n",
        "    return faces"
      ],
      "execution_count": 0,
      "outputs": []
    },
    {
      "cell_type": "code",
      "metadata": {
        "id": "Z8sQr26etFFQ",
        "colab_type": "code",
        "colab": {}
      },
      "source": [
        "faceDetector = FaceDetector(\n",
        "        prototype='./deploy.prototxt.txt',\n",
        "        model='./res10_300x300_ssd_iter_140000.caffemodel',\n",
        "    )\n",
        "frame = cv2.imread('./photo.jpg')\n",
        "faces = faceDetector.detect(frame)\n",
        "print(faces)\n",
        "\n",
        "while True:\n",
        "  cv2_imshow(frame)"
      ],
      "execution_count": 0,
      "outputs": []
    },
    {
      "cell_type": "code",
      "metadata": {
        "id": "EJV5zoe7tI89",
        "colab_type": "code",
        "colab": {}
      },
      "source": [
        "from google.colab.patches import cv2_imshow\n",
        "xStart, yStart, width, height = faces[0]\n",
        "cv2.rectangle(frame,\n",
        "      (xStart, yStart),\n",
        "      (xStart + width, yStart + height),\n",
        "      (126, 65, 64),\n",
        "      thickness=2)\n",
        "cv2_imshow(frame)"
      ],
      "execution_count": 0,
      "outputs": []
    },
    {
      "cell_type": "code",
      "metadata": {
        "id": "sQaXVS1XwRIc",
        "colab_type": "code",
        "colab": {
          "base_uri": "https://localhost:8080/",
          "height": 143
        },
        "outputId": "743fee58-9808-4b98-83ee-5993163e3789"
      },
      "source": [
        "!pip install sk-video"
      ],
      "execution_count": 36,
      "outputs": [
        {
          "output_type": "stream",
          "text": [
            "Collecting sk-video\n",
            "\u001b[?25l  Downloading https://files.pythonhosted.org/packages/dd/3f/ce848b8b2062ad1ccf1449094a740c775f6c761339f411e44f1e090f23a7/sk_video-1.1.10-py2.py3-none-any.whl (2.3MB)\n",
            "\r\u001b[K     |▏                               | 10kB 27.4MB/s eta 0:00:01\r\u001b[K     |▎                               | 20kB 5.9MB/s eta 0:00:01\r\u001b[K     |▍                               | 30kB 7.0MB/s eta 0:00:01\r\u001b[K     |▋                               | 40kB 7.6MB/s eta 0:00:01\r\u001b[K     |▊                               | 51kB 6.7MB/s eta 0:00:01\r\u001b[K     |▉                               | 61kB 7.9MB/s eta 0:00:01\r\u001b[K     |█                               | 71kB 7.7MB/s eta 0:00:01\r\u001b[K     |█▏                              | 81kB 8.6MB/s eta 0:00:01\r\u001b[K     |█▎                              | 92kB 9.2MB/s eta 0:00:01\r\u001b[K     |█▌                              | 102kB 8.8MB/s eta 0:00:01\r\u001b[K     |█▋                              | 112kB 8.8MB/s eta 0:00:01\r\u001b[K     |█▊                              | 122kB 8.8MB/s eta 0:00:01\r\u001b[K     |██                              | 133kB 8.8MB/s eta 0:00:01\r\u001b[K     |██                              | 143kB 8.8MB/s eta 0:00:01\r\u001b[K     |██▏                             | 153kB 8.8MB/s eta 0:00:01\r\u001b[K     |██▎                             | 163kB 8.8MB/s eta 0:00:01\r\u001b[K     |██▌                             | 174kB 8.8MB/s eta 0:00:01\r\u001b[K     |██▋                             | 184kB 8.8MB/s eta 0:00:01\r\u001b[K     |██▊                             | 194kB 8.8MB/s eta 0:00:01\r\u001b[K     |███                             | 204kB 8.8MB/s eta 0:00:01\r\u001b[K     |███                             | 215kB 8.8MB/s eta 0:00:01\r\u001b[K     |███▏                            | 225kB 8.8MB/s eta 0:00:01\r\u001b[K     |███▍                            | 235kB 8.8MB/s eta 0:00:01\r\u001b[K     |███▌                            | 245kB 8.8MB/s eta 0:00:01\r\u001b[K     |███▋                            | 256kB 8.8MB/s eta 0:00:01\r\u001b[K     |███▉                            | 266kB 8.8MB/s eta 0:00:01\r\u001b[K     |████                            | 276kB 8.8MB/s eta 0:00:01\r\u001b[K     |████                            | 286kB 8.8MB/s eta 0:00:01\r\u001b[K     |████▏                           | 296kB 8.8MB/s eta 0:00:01\r\u001b[K     |████▍                           | 307kB 8.8MB/s eta 0:00:01\r\u001b[K     |████▌                           | 317kB 8.8MB/s eta 0:00:01\r\u001b[K     |████▋                           | 327kB 8.8MB/s eta 0:00:01\r\u001b[K     |████▉                           | 337kB 8.8MB/s eta 0:00:01\r\u001b[K     |█████                           | 348kB 8.8MB/s eta 0:00:01\r\u001b[K     |█████                           | 358kB 8.8MB/s eta 0:00:01\r\u001b[K     |█████▎                          | 368kB 8.8MB/s eta 0:00:01\r\u001b[K     |█████▍                          | 378kB 8.8MB/s eta 0:00:01\r\u001b[K     |█████▌                          | 389kB 8.8MB/s eta 0:00:01\r\u001b[K     |█████▊                          | 399kB 8.8MB/s eta 0:00:01\r\u001b[K     |█████▉                          | 409kB 8.8MB/s eta 0:00:01\r\u001b[K     |██████                          | 419kB 8.8MB/s eta 0:00:01\r\u001b[K     |██████▏                         | 430kB 8.8MB/s eta 0:00:01\r\u001b[K     |██████▎                         | 440kB 8.8MB/s eta 0:00:01\r\u001b[K     |██████▍                         | 450kB 8.8MB/s eta 0:00:01\r\u001b[K     |██████▌                         | 460kB 8.8MB/s eta 0:00:01\r\u001b[K     |██████▊                         | 471kB 8.8MB/s eta 0:00:01\r\u001b[K     |██████▉                         | 481kB 8.8MB/s eta 0:00:01\r\u001b[K     |███████                         | 491kB 8.8MB/s eta 0:00:01\r\u001b[K     |███████▏                        | 501kB 8.8MB/s eta 0:00:01\r\u001b[K     |███████▎                        | 512kB 8.8MB/s eta 0:00:01\r\u001b[K     |███████▍                        | 522kB 8.8MB/s eta 0:00:01\r\u001b[K     |███████▋                        | 532kB 8.8MB/s eta 0:00:01\r\u001b[K     |███████▊                        | 542kB 8.8MB/s eta 0:00:01\r\u001b[K     |███████▉                        | 552kB 8.8MB/s eta 0:00:01\r\u001b[K     |████████                        | 563kB 8.8MB/s eta 0:00:01\r\u001b[K     |████████▏                       | 573kB 8.8MB/s eta 0:00:01\r\u001b[K     |████████▎                       | 583kB 8.8MB/s eta 0:00:01\r\u001b[K     |████████▍                       | 593kB 8.8MB/s eta 0:00:01\r\u001b[K     |████████▋                       | 604kB 8.8MB/s eta 0:00:01\r\u001b[K     |████████▊                       | 614kB 8.8MB/s eta 0:00:01\r\u001b[K     |████████▉                       | 624kB 8.8MB/s eta 0:00:01\r\u001b[K     |█████████                       | 634kB 8.8MB/s eta 0:00:01\r\u001b[K     |█████████▏                      | 645kB 8.8MB/s eta 0:00:01\r\u001b[K     |█████████▎                      | 655kB 8.8MB/s eta 0:00:01\r\u001b[K     |█████████▌                      | 665kB 8.8MB/s eta 0:00:01\r\u001b[K     |█████████▋                      | 675kB 8.8MB/s eta 0:00:01\r\u001b[K     |█████████▊                      | 686kB 8.8MB/s eta 0:00:01\r\u001b[K     |██████████                      | 696kB 8.8MB/s eta 0:00:01\r\u001b[K     |██████████                      | 706kB 8.8MB/s eta 0:00:01\r\u001b[K     |██████████▏                     | 716kB 8.8MB/s eta 0:00:01\r\u001b[K     |██████████▎                     | 727kB 8.8MB/s eta 0:00:01\r\u001b[K     |██████████▌                     | 737kB 8.8MB/s eta 0:00:01\r\u001b[K     |██████████▋                     | 747kB 8.8MB/s eta 0:00:01\r\u001b[K     |██████████▊                     | 757kB 8.8MB/s eta 0:00:01\r\u001b[K     |███████████                     | 768kB 8.8MB/s eta 0:00:01\r\u001b[K     |███████████                     | 778kB 8.8MB/s eta 0:00:01\r\u001b[K     |███████████▏                    | 788kB 8.8MB/s eta 0:00:01\r\u001b[K     |███████████▍                    | 798kB 8.8MB/s eta 0:00:01\r\u001b[K     |███████████▌                    | 808kB 8.8MB/s eta 0:00:01\r\u001b[K     |███████████▋                    | 819kB 8.8MB/s eta 0:00:01\r\u001b[K     |███████████▉                    | 829kB 8.8MB/s eta 0:00:01\r\u001b[K     |████████████                    | 839kB 8.8MB/s eta 0:00:01\r\u001b[K     |████████████                    | 849kB 8.8MB/s eta 0:00:01\r\u001b[K     |████████████▎                   | 860kB 8.8MB/s eta 0:00:01\r\u001b[K     |████████████▍                   | 870kB 8.8MB/s eta 0:00:01\r\u001b[K     |████████████▌                   | 880kB 8.8MB/s eta 0:00:01\r\u001b[K     |████████████▋                   | 890kB 8.8MB/s eta 0:00:01\r\u001b[K     |████████████▉                   | 901kB 8.8MB/s eta 0:00:01\r\u001b[K     |█████████████                   | 911kB 8.8MB/s eta 0:00:01\r\u001b[K     |█████████████                   | 921kB 8.8MB/s eta 0:00:01\r\u001b[K     |█████████████▎                  | 931kB 8.8MB/s eta 0:00:01\r\u001b[K     |█████████████▍                  | 942kB 8.8MB/s eta 0:00:01\r\u001b[K     |█████████████▌                  | 952kB 8.8MB/s eta 0:00:01\r\u001b[K     |█████████████▊                  | 962kB 8.8MB/s eta 0:00:01\r\u001b[K     |█████████████▉                  | 972kB 8.8MB/s eta 0:00:01\r\u001b[K     |██████████████                  | 983kB 8.8MB/s eta 0:00:01\r\u001b[K     |██████████████▏                 | 993kB 8.8MB/s eta 0:00:01\r\u001b[K     |██████████████▎                 | 1.0MB 8.8MB/s eta 0:00:01\r\u001b[K     |██████████████▍                 | 1.0MB 8.8MB/s eta 0:00:01\r\u001b[K     |██████████████▌                 | 1.0MB 8.8MB/s eta 0:00:01\r\u001b[K     |██████████████▊                 | 1.0MB 8.8MB/s eta 0:00:01\r\u001b[K     |██████████████▉                 | 1.0MB 8.8MB/s eta 0:00:01\r\u001b[K     |███████████████                 | 1.1MB 8.8MB/s eta 0:00:01\r\u001b[K     |███████████████▏                | 1.1MB 8.8MB/s eta 0:00:01\r\u001b[K     |███████████████▎                | 1.1MB 8.8MB/s eta 0:00:01\r\u001b[K     |███████████████▍                | 1.1MB 8.8MB/s eta 0:00:01\r\u001b[K     |███████████████▋                | 1.1MB 8.8MB/s eta 0:00:01\r\u001b[K     |███████████████▊                | 1.1MB 8.8MB/s eta 0:00:01\r\u001b[K     |███████████████▉                | 1.1MB 8.8MB/s eta 0:00:01\r\u001b[K     |████████████████                | 1.1MB 8.8MB/s eta 0:00:01\r\u001b[K     |████████████████▏               | 1.1MB 8.8MB/s eta 0:00:01\r\u001b[K     |████████████████▎               | 1.1MB 8.8MB/s eta 0:00:01\r\u001b[K     |████████████████▍               | 1.2MB 8.8MB/s eta 0:00:01\r\u001b[K     |████████████████▋               | 1.2MB 8.8MB/s eta 0:00:01\r\u001b[K     |████████████████▊               | 1.2MB 8.8MB/s eta 0:00:01\r\u001b[K     |████████████████▉               | 1.2MB 8.8MB/s eta 0:00:01\r\u001b[K     |█████████████████               | 1.2MB 8.8MB/s eta 0:00:01\r\u001b[K     |█████████████████▏              | 1.2MB 8.8MB/s eta 0:00:01\r\u001b[K     |█████████████████▎              | 1.2MB 8.8MB/s eta 0:00:01\r\u001b[K     |█████████████████▌              | 1.2MB 8.8MB/s eta 0:00:01\r\u001b[K     |█████████████████▋              | 1.2MB 8.8MB/s eta 0:00:01\r\u001b[K     |█████████████████▊              | 1.2MB 8.8MB/s eta 0:00:01\r\u001b[K     |██████████████████              | 1.3MB 8.8MB/s eta 0:00:01\r\u001b[K     |██████████████████              | 1.3MB 8.8MB/s eta 0:00:01\r\u001b[K     |██████████████████▏             | 1.3MB 8.8MB/s eta 0:00:01\r\u001b[K     |██████████████████▍             | 1.3MB 8.8MB/s eta 0:00:01\r\u001b[K     |██████████████████▌             | 1.3MB 8.8MB/s eta 0:00:01\r\u001b[K     |██████████████████▋             | 1.3MB 8.8MB/s eta 0:00:01\r\u001b[K     |██████████████████▊             | 1.3MB 8.8MB/s eta 0:00:01\r\u001b[K     |███████████████████             | 1.3MB 8.8MB/s eta 0:00:01\r\u001b[K     |███████████████████             | 1.3MB 8.8MB/s eta 0:00:01\r\u001b[K     |███████████████████▏            | 1.4MB 8.8MB/s eta 0:00:01\r\u001b[K     |███████████████████▍            | 1.4MB 8.8MB/s eta 0:00:01\r\u001b[K     |███████████████████▌            | 1.4MB 8.8MB/s eta 0:00:01\r\u001b[K     |███████████████████▋            | 1.4MB 8.8MB/s eta 0:00:01\r\u001b[K     |███████████████████▉            | 1.4MB 8.8MB/s eta 0:00:01\r\u001b[K     |████████████████████            | 1.4MB 8.8MB/s eta 0:00:01\r\u001b[K     |████████████████████            | 1.4MB 8.8MB/s eta 0:00:01\r\u001b[K     |████████████████████▎           | 1.4MB 8.8MB/s eta 0:00:01\r\u001b[K     |████████████████████▍           | 1.4MB 8.8MB/s eta 0:00:01\r\u001b[K     |████████████████████▌           | 1.4MB 8.8MB/s eta 0:00:01\r\u001b[K     |████████████████████▋           | 1.5MB 8.8MB/s eta 0:00:01\r\u001b[K     |████████████████████▉           | 1.5MB 8.8MB/s eta 0:00:01\r\u001b[K     |█████████████████████           | 1.5MB 8.8MB/s eta 0:00:01\r\u001b[K     |█████████████████████           | 1.5MB 8.8MB/s eta 0:00:01\r\u001b[K     |█████████████████████▎          | 1.5MB 8.8MB/s eta 0:00:01\r\u001b[K     |█████████████████████▍          | 1.5MB 8.8MB/s eta 0:00:01\r\u001b[K     |█████████████████████▌          | 1.5MB 8.8MB/s eta 0:00:01\r\u001b[K     |█████████████████████▊          | 1.5MB 8.8MB/s eta 0:00:01\r\u001b[K     |█████████████████████▉          | 1.5MB 8.8MB/s eta 0:00:01\r\u001b[K     |██████████████████████          | 1.5MB 8.8MB/s eta 0:00:01\r\u001b[K     |██████████████████████▏         | 1.6MB 8.8MB/s eta 0:00:01\r\u001b[K     |██████████████████████▎         | 1.6MB 8.8MB/s eta 0:00:01\r\u001b[K     |██████████████████████▍         | 1.6MB 8.8MB/s eta 0:00:01\r\u001b[K     |██████████████████████▌         | 1.6MB 8.8MB/s eta 0:00:01\r\u001b[K     |██████████████████████▊         | 1.6MB 8.8MB/s eta 0:00:01\r\u001b[K     |██████████████████████▉         | 1.6MB 8.8MB/s eta 0:00:01\r\u001b[K     |███████████████████████         | 1.6MB 8.8MB/s eta 0:00:01\r\u001b[K     |███████████████████████▏        | 1.6MB 8.8MB/s eta 0:00:01\r\u001b[K     |███████████████████████▎        | 1.6MB 8.8MB/s eta 0:00:01\r\u001b[K     |███████████████████████▍        | 1.6MB 8.8MB/s eta 0:00:01\r\u001b[K     |███████████████████████▋        | 1.7MB 8.8MB/s eta 0:00:01\r\u001b[K     |███████████████████████▊        | 1.7MB 8.8MB/s eta 0:00:01\r\u001b[K     |███████████████████████▉        | 1.7MB 8.8MB/s eta 0:00:01\r\u001b[K     |████████████████████████        | 1.7MB 8.8MB/s eta 0:00:01\r\u001b[K     |████████████████████████▏       | 1.7MB 8.8MB/s eta 0:00:01\r\u001b[K     |████████████████████████▎       | 1.7MB 8.8MB/s eta 0:00:01\r\u001b[K     |████████████████████████▌       | 1.7MB 8.8MB/s eta 0:00:01\r\u001b[K     |████████████████████████▋       | 1.7MB 8.8MB/s eta 0:00:01\r\u001b[K     |████████████████████████▊       | 1.7MB 8.8MB/s eta 0:00:01\r\u001b[K     |████████████████████████▉       | 1.8MB 8.8MB/s eta 0:00:01\r\u001b[K     |█████████████████████████       | 1.8MB 8.8MB/s eta 0:00:01\r\u001b[K     |█████████████████████████▏      | 1.8MB 8.8MB/s eta 0:00:01\r\u001b[K     |█████████████████████████▎      | 1.8MB 8.8MB/s eta 0:00:01\r\u001b[K     |█████████████████████████▌      | 1.8MB 8.8MB/s eta 0:00:01\r\u001b[K     |█████████████████████████▋      | 1.8MB 8.8MB/s eta 0:00:01\r\u001b[K     |█████████████████████████▊      | 1.8MB 8.8MB/s eta 0:00:01\r\u001b[K     |██████████████████████████      | 1.8MB 8.8MB/s eta 0:00:01\r\u001b[K     |██████████████████████████      | 1.8MB 8.8MB/s eta 0:00:01\r\u001b[K     |██████████████████████████▏     | 1.8MB 8.8MB/s eta 0:00:01\r\u001b[K     |██████████████████████████▍     | 1.9MB 8.8MB/s eta 0:00:01\r\u001b[K     |██████████████████████████▌     | 1.9MB 8.8MB/s eta 0:00:01\r\u001b[K     |██████████████████████████▋     | 1.9MB 8.8MB/s eta 0:00:01\r\u001b[K     |██████████████████████████▊     | 1.9MB 8.8MB/s eta 0:00:01\r\u001b[K     |███████████████████████████     | 1.9MB 8.8MB/s eta 0:00:01\r\u001b[K     |███████████████████████████     | 1.9MB 8.8MB/s eta 0:00:01\r\u001b[K     |███████████████████████████▏    | 1.9MB 8.8MB/s eta 0:00:01\r\u001b[K     |███████████████████████████▍    | 1.9MB 8.8MB/s eta 0:00:01\r\u001b[K     |███████████████████████████▌    | 1.9MB 8.8MB/s eta 0:00:01\r\u001b[K     |███████████████████████████▋    | 1.9MB 8.8MB/s eta 0:00:01\r\u001b[K     |███████████████████████████▉    | 2.0MB 8.8MB/s eta 0:00:01\r\u001b[K     |████████████████████████████    | 2.0MB 8.8MB/s eta 0:00:01\r\u001b[K     |████████████████████████████    | 2.0MB 8.8MB/s eta 0:00:01\r\u001b[K     |████████████████████████████▎   | 2.0MB 8.8MB/s eta 0:00:01\r\u001b[K     |████████████████████████████▍   | 2.0MB 8.8MB/s eta 0:00:01\r\u001b[K     |████████████████████████████▌   | 2.0MB 8.8MB/s eta 0:00:01\r\u001b[K     |████████████████████████████▋   | 2.0MB 8.8MB/s eta 0:00:01\r\u001b[K     |████████████████████████████▉   | 2.0MB 8.8MB/s eta 0:00:01\r\u001b[K     |█████████████████████████████   | 2.0MB 8.8MB/s eta 0:00:01\r\u001b[K     |█████████████████████████████   | 2.0MB 8.8MB/s eta 0:00:01\r\u001b[K     |█████████████████████████████▎  | 2.1MB 8.8MB/s eta 0:00:01\r\u001b[K     |█████████████████████████████▍  | 2.1MB 8.8MB/s eta 0:00:01\r\u001b[K     |█████████████████████████████▌  | 2.1MB 8.8MB/s eta 0:00:01\r\u001b[K     |█████████████████████████████▊  | 2.1MB 8.8MB/s eta 0:00:01\r\u001b[K     |█████████████████████████████▉  | 2.1MB 8.8MB/s eta 0:00:01\r\u001b[K     |██████████████████████████████  | 2.1MB 8.8MB/s eta 0:00:01\r\u001b[K     |██████████████████████████████▏ | 2.1MB 8.8MB/s eta 0:00:01\r\u001b[K     |██████████████████████████████▎ | 2.1MB 8.8MB/s eta 0:00:01\r\u001b[K     |██████████████████████████████▍ | 2.1MB 8.8MB/s eta 0:00:01\r\u001b[K     |██████████████████████████████▋ | 2.2MB 8.8MB/s eta 0:00:01\r\u001b[K     |██████████████████████████████▊ | 2.2MB 8.8MB/s eta 0:00:01\r\u001b[K     |██████████████████████████████▉ | 2.2MB 8.8MB/s eta 0:00:01\r\u001b[K     |███████████████████████████████ | 2.2MB 8.8MB/s eta 0:00:01\r\u001b[K     |███████████████████████████████▏| 2.2MB 8.8MB/s eta 0:00:01\r\u001b[K     |███████████████████████████████▎| 2.2MB 8.8MB/s eta 0:00:01\r\u001b[K     |███████████████████████████████▍| 2.2MB 8.8MB/s eta 0:00:01\r\u001b[K     |███████████████████████████████▋| 2.2MB 8.8MB/s eta 0:00:01\r\u001b[K     |███████████████████████████████▊| 2.2MB 8.8MB/s eta 0:00:01\r\u001b[K     |███████████████████████████████▉| 2.2MB 8.8MB/s eta 0:00:01\r\u001b[K     |████████████████████████████████| 2.3MB 8.8MB/s \n",
            "\u001b[?25hRequirement already satisfied: scipy in /usr/local/lib/python3.6/dist-packages (from sk-video) (1.4.1)\n",
            "Requirement already satisfied: numpy in /usr/local/lib/python3.6/dist-packages (from sk-video) (1.18.4)\n",
            "Installing collected packages: sk-video\n",
            "Successfully installed sk-video-1.1.10\n"
          ],
          "name": "stdout"
        }
      ]
    },
    {
      "cell_type": "code",
      "metadata": {
        "id": "2ww1ymB0zqe1",
        "colab_type": "code",
        "colab": {}
      },
      "source": [
        "def start_webcam():\n",
        "  js = Javascript('''\n",
        "    async function startWebcam() {\n",
        "\n",
        "      const div = document.createElement('div');\n",
        "\n",
        "      const video = document.createElement('video');\n",
        "      video.style.display = 'block';\n",
        "      const stream = await navigator.mediaDevices.getUserMedia({video: true});\n",
        "\n",
        "\n",
        "      document.body.appendChild(div);\n",
        "      div.appendChild(video);\n",
        "      video.srcObject = stream;\n",
        "      await video.play();\n",
        "    }\n",
        "    ''')\n",
        "  \n",
        "  display(js)\n",
        "  data = eval_js('startWebcam()')\n",
        "  \n",
        "    \n",
        "start_webcam()"
      ],
      "execution_count": 0,
      "outputs": []
    },
    {
      "cell_type": "code",
      "metadata": {
        "id": "dKpjKzK00AIq",
        "colab_type": "code",
        "colab": {}
      },
      "source": [
        "\n",
        "from IPython.display import HTML, Javascript, display\n",
        "from google.colab.output import eval_js\n",
        "from base64 import b64decode\n",
        "import numpy as np\n",
        "import io\n",
        "IDEO_HTML = \"\"\"\n",
        "<script>\n",
        "var my_div = document.createElement(\"DIV\");\n",
        "var my_p = document.createElement(\"P\");\n",
        "var my_btn = document.createElement(\"BUTTON\");\n",
        "var my_btn_txt = document.createTextNode(\"Press to start recording\");\n",
        "\n",
        "my_btn.appendChild(my_btn_txt);\n",
        "my_div.appendChild(my_btn);\n",
        "document.body.appendChild(my_div);\n",
        "\n",
        "var base64data = 0;\n",
        "var reader;\n",
        "var recorder, videoStream;\n",
        "var recordButton = my_btn;\n",
        "\n",
        "var handleSuccess = function(stream) {\n",
        "  videoStream = stream;\n",
        "  var options = {  \n",
        "    mimeType : 'video/webm;codecs=vp9'  \n",
        "  };            \n",
        "  recorder = new MediaRecorder(stream, options);\n",
        "  recorder.ondataavailable = function(e) {            \n",
        "    var url = URL.createObjectURL(e.data);\n",
        "    var preview = document.createElement('video');\n",
        "    preview.controls = true;\n",
        "    preview.src = url;\n",
        "    document.body.appendChild(preview);\n",
        "\n",
        "    reader = new FileReader();\n",
        "    reader.readAsDataURL(e.data); \n",
        "    reader.onloadend = function() {\n",
        "      base64data = reader.result;\n",
        "    }\n",
        "  };\n",
        "  recorder.start();\n",
        "  };\n",
        "\n",
        "recordButton.innerText = \"Recording... press to stop\";\n",
        "\n",
        "navigator.mediaDevices.getUserMedia({video: true}).then(handleSuccess);\n",
        "\n",
        "\n",
        "function toggleRecording() {\n",
        "  if (recorder && recorder.state == \"recording\") {\n",
        "      recorder.stop();\n",
        "      videoStream.getVideoTracks()[0].stop();\n",
        "      recordButton.innerText = \"Saving the recording... Please wait!\"\n",
        "  }\n",
        "}\n",
        "\n",
        "function sleep(ms) {\n",
        "  return new Promise(resolve => setTimeout(resolve, ms));\n",
        "}\n",
        "\n",
        "var data = new Promise(resolve=>{\n",
        "recordButton.onclick = ()=>{\n",
        "toggleRecording()\n",
        "\n",
        "sleep(2000).then(() => {\n",
        "  // wait 2000ms for the data to be available\n",
        "  resolve(base64data.toString())\n",
        "\n",
        "});\n",
        "\n",
        "}\n",
        "});\n",
        "      \n",
        "</script>\n",
        "\"\"\"\n",
        "\n",
        "def get_video():\n",
        "  display(HTML(VIDEO_HTML))\n",
        "  data = eval_js(\"data\")\n",
        "  binary = b64decode(data.split(',')[1])\n",
        "  \n",
        "  return binary\n",
        "\n",
        "videofile = get_video()\n",
        "\n",
        "with open('./test.mp4', 'wb') as f:\n",
        "  f.write(videofile)"
      ],
      "execution_count": 0,
      "outputs": []
    },
    {
      "cell_type": "code",
      "metadata": {
        "id": "bXpiGCYr0zHa",
        "colab_type": "code",
        "colab": {}
      },
      "source": [
        "import cv2\n",
        "webcam = cv2.VideoCapture('./test.mp4')  \n",
        "count = 1\n",
        "while count < 30: \n",
        "    if not webcam.isOpened():\n",
        "        print('Unable to load the video file.')\n",
        "        sleep(5)\n",
        "        pass  \n",
        "    (_, im) = webcam.read() \n",
        "    gray = cv2.cvtColor(im, cv2.COLOR_BGR2GRAY) \n",
        "    faces = face_cascade.detectMultiScale(gray, 1.3, 4) \n",
        "    for (x, y, w, h) in faces: \n",
        "        cv2.rectangle(im, (x, y), (x + w, y + h), (255, 0, 0), 2) \n",
        "        face = gray[y:y + h, x:x + w] \n",
        "        face_resize = cv2.resize(face, (width, height)) \n",
        "        cv2.imwrite('% s/% s.png' % (path, count), face_resize) \n",
        "    count += 1"
      ],
      "execution_count": 0,
      "outputs": []
    },
    {
      "cell_type": "code",
      "metadata": {
        "id": "fty_sZllp65X",
        "colab_type": "code",
        "colab": {}
      },
      "source": [
        "from pathlib import Path\n",
        "\n",
        "import click\n",
        "import cv2\n",
        "import torch\n",
        "from skvideo.io import FFmpegWriter, vreader\n",
        "from torchvision.transforms import Compose, Resize, ToPILImage, ToTensor\n",
        "\n",
        "def tagVideo(modelpath, videopath, outputPath=None):\n",
        "    \"\"\" detect if persons in video are wearing masks or not\n",
        "    \"\"\"\n",
        "    model = MaskDetector()\n",
        "    model.load_state_dict(torch.load(modelpath)['state_dict'], strict=False)\n",
        "    \n",
        "    device = torch.device(\"cuda:0\" if torch.cuda.is_available() else \"cpu\")\n",
        "    model = model.to(device)\n",
        "    model.eval()\n",
        "    \n",
        "    faceDetector = FaceDetector(\n",
        "        prototype='./deploy.prototxt.txt',\n",
        "        model='./res10_300x300_ssd_iter_140000.caffemodel',\n",
        "    )\n",
        "    \n",
        "    transformations = Compose([\n",
        "        ToPILImage(),\n",
        "        Resize((100, 100)),\n",
        "        ToTensor(),\n",
        "    ])\n",
        "    \n",
        "    if outputPath:\n",
        "        writer = FFmpegWriter(str(outputPath))\n",
        "    \n",
        "    font = cv2.FONT_HERSHEY_SIMPLEX\n",
        "    cv2.namedWindow('main', cv2.WINDOW_NORMAL)\n",
        "    labels = ['No mask', 'Mask']\n",
        "    labelColor = [(10, 0, 255), (10, 255, 0)]\n",
        "    for frame in vreader(str(videopath)):\n",
        "        frame = cv2.cvtColor(frame, cv2.COLOR_BGR2RGB)\n",
        "        faces = faceDetector.detect(frame)\n",
        "        for face in faces:\n",
        "            xStart, yStart, width, height = face\n",
        "            \n",
        "            # clamp coordinates that are outside of the image\n",
        "            xStart, yStart = max(xStart, 0), max(yStart, 0)\n",
        "            \n",
        "            # predict mask label on extracted face\n",
        "            faceImg = frame[yStart:yStart+height, xStart:xStart+width]\n",
        "            output = model(transformations(faceImg).unsqueeze(0).to(device))\n",
        "            _, predicted = torch.max(output.data, 1)\n",
        "            \n",
        "            # draw face frame\n",
        "            cv2.rectangle(frame,\n",
        "                          (xStart, yStart),\n",
        "                          (xStart + width, yStart + height),\n",
        "                          (126, 65, 64),\n",
        "                          thickness=2)\n",
        "            \n",
        "            # center text according to the face frame\n",
        "            textSize = cv2.getTextSize(labels[predicted], font, 1, 2)[0]\n",
        "            textX = xStart + width // 2 - textSize[0] // 2\n",
        "            \n",
        "            # draw prediction label\n",
        "            cv2.putText(frame,\n",
        "                        labels[predicted],\n",
        "                        (textX, yStart-20),\n",
        "                        font, 1, labelColor[predicted], 2)\n",
        "        if outputPath:\n",
        "            writer.writeFrame(cv2.cvtColor(frame, cv2.COLOR_RGB2BGR))\n",
        "        cv2.imshow('main', frame)\n",
        "        if cv2.waitKey(1) & 0xFF == ord('q'):\n",
        "            break\n",
        "    if outputPath:\n",
        "        writer.close()\n",
        "    cv2.destroyAllWindows()"
      ],
      "execution_count": 0,
      "outputs": []
    },
    {
      "cell_type": "code",
      "metadata": {
        "id": "rll0wJdbwe5y",
        "colab_type": "code",
        "colab": {}
      },
      "source": [
        "tagVideo(modelpath='/content/face_mask.ckpt', videopath='')"
      ],
      "execution_count": 0,
      "outputs": []
    },
    {
      "cell_type": "code",
      "metadata": {
        "id": "iD1Rhtk8wfuA",
        "colab_type": "code",
        "colab": {}
      },
      "source": [
        ""
      ],
      "execution_count": 0,
      "outputs": []
    }
  ]
}