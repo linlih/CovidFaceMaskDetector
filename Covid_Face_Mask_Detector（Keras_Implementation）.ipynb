{
  "nbformat": 4,
  "nbformat_minor": 0,
  "metadata": {
    "colab": {
      "name": "Covid Face Mask Detector（Keras Implementation）.ipynb",
      "provenance": [],
      "collapsed_sections": [],
      "authorship_tag": "ABX9TyOD7gXeIdfw8NU7aJK8kscL",
      "include_colab_link": true
    },
    "kernelspec": {
      "name": "python3",
      "display_name": "Python 3"
    },
    "accelerator": "TPU"
  },
  "cells": [
    {
      "cell_type": "markdown",
      "metadata": {
        "id": "view-in-github",
        "colab_type": "text"
      },
      "source": [
        "<a href=\"https://colab.research.google.com/github/linlih/CovidFaceMaskDetector/blob/master/Covid_Face_Mask_Detector%EF%BC%88Keras_Implementation%EF%BC%89.ipynb\" target=\"_parent\"><img src=\"https://colab.research.google.com/assets/colab-badge.svg\" alt=\"Open In Colab\"/></a>"
      ]
    },
    {
      "cell_type": "code",
      "metadata": {
        "id": "znMP7F65gSQx",
        "colab_type": "code",
        "colab": {}
      },
      "source": [
        "from pathlib import Path\n",
        "\n",
        "import pandas as pd\n",
        "from google_drive_downloader import GoogleDriveDownloader as gdd\n",
        "from tqdm import tqdm"
      ],
      "execution_count": 0,
      "outputs": []
    },
    {
      "cell_type": "code",
      "metadata": {
        "id": "xJzvOM93gZ2Y",
        "colab_type": "code",
        "outputId": "8156792c-b54d-4530-94b0-a69ffb25c217",
        "colab": {
          "base_uri": "https://localhost:8080/",
          "height": 53
        }
      },
      "source": [
        "datasetPath = Path('./data/mask.zip')\n",
        "# 从GoogleDrive的共享文件中下载训练数据\n",
        "gdd.download_file_from_google_drive(file_id='1UlOk6EtiaXTHylRUx2mySgvJX9ycoeBp',\n",
        "                  dest_path=str(datasetPath),\n",
        "                  unzip=True)"
      ],
      "execution_count": 0,
      "outputs": [
        {
          "output_type": "stream",
          "text": [
            "Downloading 1UlOk6EtiaXTHylRUx2mySgvJX9ycoeBp into data/mask.zip... Done.\n",
            "Unzipping...Done.\n"
          ],
          "name": "stdout"
        }
      ]
    },
    {
      "cell_type": "code",
      "metadata": {
        "id": "168dBGoIgbRS",
        "colab_type": "code",
        "colab": {}
      },
      "source": [
        "datasetPath.unlink() # 删除下载的zipwe文件"
      ],
      "execution_count": 0,
      "outputs": []
    },
    {
      "cell_type": "code",
      "metadata": {
        "id": "2n6cVLG7gcqq",
        "colab_type": "code",
        "outputId": "d6666e0b-583c-4395-b8d8-ae92b37468b5",
        "colab": {
          "base_uri": "https://localhost:8080/",
          "height": 91
        }
      },
      "source": [
        "# 构建DataFrame，并保存序列化，如果序列化过了，就无需无需执行这个内容，直接读入序列化的文件即可\n",
        "# 注意DataFrame的append是要赋值等号的形式：maskDF = maskDF.append(xxx)，这个使用形式和其他直接append无法赋值就生效的不一致，要十分注意\n",
        "datasetPath = Path('./data/self-built-masked-face-recognition-dataset')\n",
        "maskPath = datasetPath/'AFDB_masked_face_dataset'\n",
        "nonMaskPath = datasetPath/'AFDB_face_dataset'\n",
        "\n",
        "maskDF = pd.DataFrame()\n",
        "\n",
        "for subject in tqdm(list(maskPath.iterdir()),desc='mask photos'):\n",
        "  for imgPath in subject.iterdir():\n",
        "    maskDF = maskDF.append({\n",
        "        'image': str(imgPath),\n",
        "        'mask': 1\n",
        "    }, ignore_index=True)\n",
        "\n",
        "for subject in tqdm(list(nonMaskPath.iterdir()),desc='no mask photos'):\n",
        "  for imgPath in subject.iterdir():\n",
        "    maskDF = maskDF.append({\n",
        "        'image': str(imgPath),\n",
        "        'mask': 0\n",
        "    }, ignore_index=True)\n",
        "    \n",
        "dfName = './data/mask_df.pickle'\n",
        "print(f'saving DataFrame to {dfName}')\n",
        "maskDF.to_pickle(dfName) # 保存序列化文件，读取的函数使用pd.read_pickle"
      ],
      "execution_count": 0,
      "outputs": [
        {
          "output_type": "stream",
          "text": [
            "mask photos: 100%|██████████| 525/525 [00:06<00:00, 81.97it/s] \n",
            "no mask photos: 100%|██████████| 460/460 [05:52<00:00,  1.31it/s]"
          ],
          "name": "stderr"
        },
        {
          "output_type": "stream",
          "text": [
            "saving DataFrame to ./data/mask_df.pickle\n"
          ],
          "name": "stdout"
        },
        {
          "output_type": "stream",
          "text": [
            "\n"
          ],
          "name": "stderr"
        }
      ]
    },
    {
      "cell_type": "code",
      "metadata": {
        "id": "z6PMZ0X0gflg",
        "colab_type": "code",
        "colab": {}
      },
      "source": [
        "# 如果已经序列化过，直接执行这个创建DataFrame即可\n",
        "import pandas as pd\n",
        "maskDF = pd.read_pickle('./data/mask_df.pickle')"
      ],
      "execution_count": 0,
      "outputs": []
    },
    {
      "cell_type": "code",
      "metadata": {
        "id": "SQ6MGX3GnP8X",
        "colab_type": "code",
        "outputId": "74149a48-d465-4d9d-8a3c-e95edb4cfbec",
        "colab": {
          "base_uri": "https://localhost:8080/",
          "height": 35
        }
      },
      "source": [
        "from keras import layers\n",
        "from keras import models\n",
        "from keras.optimizers import Adam"
      ],
      "execution_count": 0,
      "outputs": [
        {
          "output_type": "stream",
          "text": [
            "Using TensorFlow backend.\n"
          ],
          "name": "stderr"
        }
      ]
    },
    {
      "cell_type": "code",
      "metadata": {
        "id": "ntrlTy4vnigx",
        "colab_type": "code",
        "colab": {}
      },
      "source": [
        "model = models.Sequential()\n",
        "\n",
        "model.add(layers.Conv2D(32, (3, 3), activation='relu', input_shape=(100, 100, 3), padding='same'))   \n",
        "model.add(layers.MaxPooling2D((2, 2)))\n",
        "\n",
        "model.add(layers.Conv2D(64, (3, 3), activation='relu', input_shape=(100, 100, 3), padding='same'))   \n",
        "model.add(layers.MaxPooling2D((2, 2)))\n",
        "\n",
        "model.add(layers.Conv2D(128, (3, 3), activation='relu', input_shape=(100, 100, 3), padding='same', strides=(3, 3)))   \n",
        "model.add(layers.MaxPooling2D((2, 2)))\n",
        "\n",
        "model.add(layers.Flatten())\n",
        "model.add(layers.Dense(1024, activation='relu'))\n",
        "model.add(layers.Dense(1, activation='sigmoid'))\n",
        "\n",
        "model.compile(optimizer=Adam(lr=0.0001), \n",
        "       loss='binary_crossentropy', \n",
        "       metrics=['accuracy'])  "
      ],
      "execution_count": 0,
      "outputs": []
    },
    {
      "cell_type": "code",
      "metadata": {
        "id": "tjD6defdpvau",
        "colab_type": "code",
        "outputId": "30b9c5b1-8477-41af-b587-b34f2a619ec4",
        "colab": {
          "base_uri": "https://localhost:8080/",
          "height": 485
        }
      },
      "source": [
        "model.summary()"
      ],
      "execution_count": 0,
      "outputs": [
        {
          "output_type": "stream",
          "text": [
            "Model: \"sequential_1\"\n",
            "_________________________________________________________________\n",
            "Layer (type)                 Output Shape              Param #   \n",
            "=================================================================\n",
            "conv2d_1 (Conv2D)            (None, 100, 100, 32)      896       \n",
            "_________________________________________________________________\n",
            "max_pooling2d_1 (MaxPooling2 (None, 50, 50, 32)        0         \n",
            "_________________________________________________________________\n",
            "conv2d_2 (Conv2D)            (None, 50, 50, 64)        18496     \n",
            "_________________________________________________________________\n",
            "max_pooling2d_2 (MaxPooling2 (None, 25, 25, 64)        0         \n",
            "_________________________________________________________________\n",
            "conv2d_3 (Conv2D)            (None, 9, 9, 128)         73856     \n",
            "_________________________________________________________________\n",
            "max_pooling2d_3 (MaxPooling2 (None, 4, 4, 128)         0         \n",
            "_________________________________________________________________\n",
            "flatten_1 (Flatten)          (None, 2048)              0         \n",
            "_________________________________________________________________\n",
            "dense_1 (Dense)              (None, 1024)              2098176   \n",
            "_________________________________________________________________\n",
            "dense_2 (Dense)              (None, 1)                 1025      \n",
            "=================================================================\n",
            "Total params: 2,192,449\n",
            "Trainable params: 2,192,449\n",
            "Non-trainable params: 0\n",
            "_________________________________________________________________\n"
          ],
          "name": "stdout"
        }
      ]
    },
    {
      "cell_type": "code",
      "metadata": {
        "id": "ETwpWoczuVpe",
        "colab_type": "code",
        "colab": {}
      },
      "source": [
        "# 需要将mask这一列数据转化成string类型的，keras的ImageDataGenerator才可以处理\n",
        "# 注意：pandas的object类型对应python中的str类型\n",
        "# ref: https://www.cnblogs.com/yu121/p/12878369.html\n",
        "maskDF_t = pd.DataFrame(maskDF)\n",
        "maskDF_t[['mask']] = maskDF_t[['mask']].astype(str)"
      ],
      "execution_count": 0,
      "outputs": []
    },
    {
      "cell_type": "code",
      "metadata": {
        "id": "d8a2pzDtsn-r",
        "colab_type": "code",
        "outputId": "48d412e3-a6da-4f63-f108-7e79ba9d86cf",
        "colab": {
          "base_uri": "https://localhost:8080/",
          "height": 53
        }
      },
      "source": [
        "from keras_preprocessing.image import ImageDataGenerator\n",
        "from sklearn.model_selection import train_test_split\n",
        "\n",
        "train, validate = train_test_split(maskDF_t, test_size=0.3, random_state=0, stratify=maskDF['mask'])\n",
        "\n",
        "datagen = ImageDataGenerator(rescale=1./255)\n",
        "train_generator = datagen.flow_from_dataframe(dataframe=train, \n",
        "                        directory=None, \n",
        "                        x_col=\"image\", \n",
        "                        y_col=\"mask\", \n",
        "                        class_mode=\"binary\", \n",
        "                        target_size=(100,100), \n",
        "                        batch_size=256)\n",
        "\n",
        "tdatagen = ImageDataGenerator(rescale=1./255)\n",
        "valid_generator = tdatagen.flow_from_dataframe(dataframe=validate, \n",
        "                        directory=None, \n",
        "                        x_col=\"image\", \n",
        "                        y_col=\"mask\", \n",
        "                        class_mode=\"binary\", \n",
        "                        target_size=(100,100), \n",
        "                        batch_size=256)"
      ],
      "execution_count": 0,
      "outputs": [
        {
          "output_type": "stream",
          "text": [
            "Found 64869 validated image filenames belonging to 2 classes.\n",
            "Found 27802 validated image filenames belonging to 2 classes.\n"
          ],
          "name": "stdout"
        }
      ]
    },
    {
      "cell_type": "code",
      "metadata": {
        "id": "KGWk0XlLzB6k",
        "colab_type": "code",
        "outputId": "cefa3dd1-ff13-419f-f84c-d16e92c0c3f0",
        "colab": {
          "base_uri": "https://localhost:8080/",
          "height": 35
        }
      },
      "source": [
        "STEP_SIZE_TRAIN = train_generator.n\n",
        "STEP_SIZE_VALID = valid_generator.n\n",
        "model.fit_generator(generator=train_generator,\n",
        "          steps_per_epoch=train_generator.n,\n",
        "          epochs=1,\n",
        "          validation_data=valid_generator,\n",
        "          validation_steps=valid_generator.n,\n",
        "          verbose=2)\n",
        "# 注意使用verbose=1的话，会吐出大量的日志，导致Colab内存被用光，所以这里将verbose关掉\n",
        "# 但是关掉又涉及到一个问题，就是怎么看到训练结果？"
      ],
      "execution_count": 0,
      "outputs": [
        {
          "output_type": "stream",
          "text": [
            "Epoch 1/1\n"
          ],
          "name": "stdout"
        }
      ]
    },
    {
      "cell_type": "code",
      "metadata": {
        "id": "dLTxHvQwvxRZ",
        "colab_type": "code",
        "colab": {}
      },
      "source": [
        "!nvidia-smi"
      ],
      "execution_count": 0,
      "outputs": []
    },
    {
      "cell_type": "code",
      "metadata": {
        "id": "ok7Ne5dB94B7",
        "colab_type": "code",
        "colab": {}
      },
      "source": [
        ""
      ],
      "execution_count": 0,
      "outputs": []
    }
  ]
}